{
 "cells": [
  {
   "cell_type": "markdown",
   "id": "07fe8e67-555e-4b78-9328-111c2ddcb8bb",
   "metadata": {},
   "source": [
    "Q1. How can you create a Bokeh plot using Python code?\n",
    "\n",
    "To create a Bokeh plot using Python, follow these steps:\n",
    "\n",
    "1.Install Bokeh (if not already installed).\n",
    "2.Import necesaary modules.\n",
    "3.Prepare the data.\n",
    "4.Create a plot.\n",
    "5.Output to a static HTML file and show the plot.\n",
    "This will create a simple line plot and open it in your default web browser."
   ]
  },
  {
   "cell_type": "markdown",
   "id": "30d9fcc7-f144-48ee-bcdc-0f0f46468de6",
   "metadata": {},
   "source": [
    "Q2. What are glyphs in Bokeh, and how can you add them to a Bokeh plot? Explain with an example."
   ]
  },
  {
   "cell_type": "markdown",
   "id": "fb359aaf-8c3a-4df4-862b-d771a9b4da05",
   "metadata": {},
   "source": [
    "Glyphs in Bokeh are the visual shapes that represent data on a plot. Examples include lines, circles, rectangles, etc. You can add glyphs to a Bokeh plot using methods like circle(), line(), rect(), etc.\n",
    "\n",
    "Here's a short example:\n",
    "\n",
    "Import necessary modules:\n",
    "from bokeh.plotting import figure, output_file, show\n",
    "\n",
    "Prepare the data:\n",
    "x = [1, 2, 3, 4, 5]\n",
    "y = [6, 7, 2, 4, 5]\n",
    "Create a plot:\n",
    "p = figure(title=\"Bokeh Glyphs Example\", x_axis_label='X', y_axis_label='Y')\n",
    "\n",
    "Add glyphs:\n",
    "p.circle(x, y, size=10, color=\"navy\", alpha=0.5)\n",
    "p.line(x, y, legend_label=\"Line\", line_width=2)\n",
    "\n",
    "Output to a static HTML file and show the plot:\n",
    "output_file(\"glyphs_example.html\")\n",
    "show(p)\n",
    "This code will create a plot with both circle glyphs and a line glyph representing the data."
   ]
  },
  {
   "cell_type": "markdown",
   "id": "f547a8e9-e923-42e7-8ae5-1f77a839695c",
   "metadata": {},
   "source": [
    "Q3. How can you customize the appearance of a Bokeh plot, including the axes, title, and legend?\n",
    "\n",
    "We can customize the appearance of a Bokeh plot by setting properties for the axes, title, and legend. "
   ]
  },
  {
   "cell_type": "markdown",
   "id": "9d3853b8-c441-4bd8-9ea1-20dd414365c8",
   "metadata": {},
   "source": [
    "Q4. What is a Bokeh server, and how can you use it to create interactive plots that can be updated in\n",
    "real time?"
   ]
  },
  {
   "cell_type": "markdown",
   "id": "ae67f6f9-ed5b-42a3-be7c-655679807962",
   "metadata": {},
   "source": [
    "A Bokeh server allows you to create interactive plots that can be updated in real time. It enables us to build web applications with interactive widgets, real-time streaming, and periodic updates.\n",
    "\n",
    "Here is a short example of how to use Bokeh server to create an interactive plot:\n",
    "\n",
    "Install Bokeh (if not already installed):\n",
    "pip install bokeh\n",
    "\n",
    "Create a Python script (e.g., interactive_plot.py):\n",
    "from bokeh.plotting import figure, curdoc\n",
    "from bokeh.models import ColumnDataSource\n",
    "from bokeh.layouts import column\n",
    "from bokeh.models.widgets import Slider\n",
    "\n",
    "# Prepare the data\n",
    "source = ColumnDataSource(data=dict(x=[1, 2, 3, 4, 5], y=[6, 7, 2, 4, 5]))\n",
    "\n",
    "# Create a plot\n",
    "p = figure(title=\"Interactive Bokeh Plot\", x_axis_label='X', y_axis_label='Y')\n",
    "p.circle('x', 'y', source=source, size=10, color=\"navy\", alpha=0.5)\n",
    "\n",
    "# Define a callback function to update data\n",
    "def update(attr, old, new):\n",
    "    scale = slider.value\n",
    "    new_y = [i * scale for i in source.data['y']]\n",
    "    source.data = dict(x=source.data['x'], y=new_y)\n",
    "\n",
    "# Add a slider widget\n",
    "slider = Slider(start=0.1, end=10, value=1, step=0.1, title=\"Scale\")\n",
    "slider.on_change('value', update)\n",
    "\n",
    "# Layout and add to the current document\n",
    "layout = column(slider, p)\n",
    "curdoc().add_root(layout)\n",
    "\n",
    "Run the Bokeh server:\n",
    "bokeh serve --show interactive_plot.py\n",
    "This script sets up a Bokeh server application with an interactive slider that scales the y-values of the plot in real time. Running the bokeh serve command will start the server and open the application in our web browser."
   ]
  },
  {
   "cell_type": "markdown",
   "id": "6c850b59-6bf2-43b5-8be2-263e4ad9f0b0",
   "metadata": {},
   "source": [
    "Q5. How can you embed a Bokeh plot into a web page or dashboard using Flask or Django?\n",
    "\n",
    "To embed a Bokeh plot into a web page or dashboard using Flask or Django, you need to create the plot, generate the necessary HTML and JavaScript components using Bokeh's embedding functions, and then render these components in your web framework's templates.\n",
    "\n",
    "Here's a short example for both Flask and Django:\n",
    "*Using Flask\n",
    "1.Install Dependencies.\n",
    "2.Create a Flask App.\n",
    "3.Create a Template (templates/index.html).\n",
    "4.Run the Flask App.\n",
    "\n",
    "*Using Django\n",
    "1.Install Dependencies.\n",
    "2.Create a Django Project and App.\n",
    "3.Configure URLs (myproject/urls.py).\n",
    "4.Create a View (myapp/views.py).\n",
    "5.Create a Template (myapp/templates/index.html).\n",
    "6.Run the Django Server."
   ]
  }
 ],
 "metadata": {
  "kernelspec": {
   "display_name": "Python 3 (ipykernel)",
   "language": "python",
   "name": "python3"
  },
  "language_info": {
   "codemirror_mode": {
    "name": "ipython",
    "version": 3
   },
   "file_extension": ".py",
   "mimetype": "text/x-python",
   "name": "python",
   "nbconvert_exporter": "python",
   "pygments_lexer": "ipython3",
   "version": "3.10.8"
  }
 },
 "nbformat": 4,
 "nbformat_minor": 5
}
