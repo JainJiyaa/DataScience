{
 "cells": [
  {
   "cell_type": "markdown",
   "id": "bfda02ef-efaa-4446-bcea-4a744e3abd35",
   "metadata": {},
   "source": [
    "Q1. What are the key steps involved in building an end-to-end web application, from development to\n",
    "deployment on the cloud?\n",
    "\n",
    "The steps involved are:\n",
    "1.Planning and requirement analysis.\n",
    "2.Design\n",
    "3.Development.\n",
    "4.Testing\n",
    "5.Continuous Integration and Continuous Deployment (CI/CD):\n",
    "6.Deployment\n",
    "7.Monitoring and Maintenance\n",
    "8.Scaling and Optimization\n",
    "9.Security"
   ]
  },
  {
   "cell_type": "markdown",
   "id": "bab75823-c5b3-480a-ad40-9a356e8c212b",
   "metadata": {},
   "source": [
    "Q2. Explain the difference between traditional web hosting and cloud hosting.\n",
    "\n",
    "Traditional Web Hosting:\n",
    "\n",
    "Offers a fixed amount of server resources (CPU, RAM, storage).\n",
    "Limited and requires manual upgrades to add more resources.\n",
    "Often includes basic server management and maintenance.\n",
    "Typically a fixed monthly fee, regardless of usage.\n",
    "Usually involves a single server or a shared hosting environment.\n",
    "\n",
    "Cloud Hosting:\n",
    "\n",
    "Resources are scalable and can be adjusted automatically based on demand.\n",
    "Highly scalable, can easily handle traffic spikes and growth.\n",
    "Can be fully managed by the provider, offering automated maintenance, updates, and backups.\n",
    "Pay-as-you-go pricing based on actual usage.\n",
    "Utilizes a network of virtual servers, ensuring higher availability and redundancy."
   ]
  },
  {
   "cell_type": "markdown",
   "id": "5eb474c6-5076-44c7-a117-3c934c8f4a1f",
   "metadata": {},
   "source": [
    "Q3. How do you choose the right cloud provider for your application deployment, and what factors\n",
    "should you consider?\n",
    "\n",
    "Assess your application’s specific needs (compute power, storage, bandwidth, etc.).\n",
    "Check for latency, speed, and reliability.\n",
    "Ensure the provider can handle growth and traffic spikes.\n",
    "Compare costs, including hidden fees, and consider a pay-as-you-go model.\n",
    "Review security measures, compliance certifications, and data protection policies.\n",
    "Consider the quality and availability of customer support.\n",
    "Check the availability of data centers in desired regions.\n",
    "Assess the user-friendliness of the management console and APIs.\n",
    "Reputation and Reliability: Look at the provider’s market reputation, uptime guarantees, and service level agreements (SLAs).\n",
    "Check for a robust community, documentation, and third-party integrations."
   ]
  },
  {
   "cell_type": "markdown",
   "id": "ade82f76-7036-4ae4-b950-43ee2728253f",
   "metadata": {},
   "source": [
    "Q5. How do you integrate the machine learning model with the user interface for the Algerian Forest Fires\n",
    "project(which we discussed in class), and what APIs or libraries can you use for this purpose?\n",
    "\n",
    "Integration:\n",
    "1.Model Deployment\n",
    "2.\n",
    "Flask: from flask import Flask, request, jsonify\n",
    "Django: from django.http import JsonResponse\n",
    "FastAPI: from fastapi import FastAPI\n",
    "Axios (JavaScript): To simplify HTTP requests from the frontend."
   ]
  },
  {
   "cell_type": "code",
   "execution_count": null,
   "id": "31d08685-fed3-4985-a1b1-6de7081b0d28",
   "metadata": {},
   "outputs": [],
   "source": []
  },
  {
   "cell_type": "code",
   "execution_count": null,
   "id": "3ba71ade-92c7-4880-8eda-d69f4a90eb10",
   "metadata": {},
   "outputs": [],
   "source": []
  },
  {
   "cell_type": "code",
   "execution_count": null,
   "id": "8909dfb9-5fbc-4699-9dbd-1b0ccbaf0ffe",
   "metadata": {},
   "outputs": [],
   "source": []
  }
 ],
 "metadata": {
  "kernelspec": {
   "display_name": "Python 3 (ipykernel)",
   "language": "python",
   "name": "python3"
  },
  "language_info": {
   "codemirror_mode": {
    "name": "ipython",
    "version": 3
   },
   "file_extension": ".py",
   "mimetype": "text/x-python",
   "name": "python",
   "nbconvert_exporter": "python",
   "pygments_lexer": "ipython3",
   "version": "3.10.8"
  }
 },
 "nbformat": 4,
 "nbformat_minor": 5
}
