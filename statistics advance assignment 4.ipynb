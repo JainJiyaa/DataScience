{
 "cells": [
  {
   "cell_type": "markdown",
   "id": "33cad07e-92ca-402f-a4dc-26e43c6acd82",
   "metadata": {},
   "source": [
    "Q1: What is the difference between a t-test and a z-test? Provide an example scenario where you would\n",
    "use each type of test.\n",
    "\n",
    "A z-test is used to test null hypothesis if the population variance is known,or if the sample size is larger than 30 for an unknown population variance.\n",
    "A t-test is used when the sample size is less than 30 and the population variance is unknown.                                             "
   ]
  },
  {
   "cell_type": "markdown",
   "id": "d58b5404-36de-4ee9-92ba-2c1737969edb",
   "metadata": {},
   "source": [
    "Q2: Differentiate between one-tailed and two-tailed tests.\n",
    "\n",
    "One tailed test is said to be wherein there is only one possibility, and two tailed test is said to be where there are two possibilities for such."
   ]
  },
  {
   "cell_type": "markdown",
   "id": "335be58f-5019-4504-9cdc-7c583a195823",
   "metadata": {},
   "source": [
    "Q3: Explain the concept of Type 1 and Type 2 errors in hypothesis testing.Provide an example scenario for\n",
    "each type of error.\n",
    "\n",
    "Type1 error is said when we reject the null hypothesis but in reality it is true.\n",
    "eg: we convict someone of a crime when they are actually innocent.\n",
    "Type2 error is said when we retain/accept the null hypothesis when in reality it is false.\n",
    "eg: a test for a disease may report a negative result when the patient is infected."
   ]
  },
  {
   "cell_type": "markdown",
   "id": "ae185822-c59b-4ecf-add2-0e7cd79666c6",
   "metadata": {},
   "source": [
    "Q4: Explain Bayes's theorem with an example.\n",
    "\n",
    "Bayes theorem is said to be conditional probability. It gives the probability of an event with the given information. \n",
    "Which has independent events and dependent events."
   ]
  },
  {
   "cell_type": "markdown",
   "id": "fdb8d40b-6d4e-4087-becf-8633b1dfd5ef",
   "metadata": {},
   "source": [
    "Q5: What is a confidence interval? How to calculate the confidence interval.\n",
    "\n",
    "Confidence interval can be said as that how much confident you are for the particular possibility.\n",
    "To optain this, add and subtract the margin of error from the sample mean."
   ]
  },
  {
   "cell_type": "markdown",
   "id": "24cc57f1-d3d0-4c5d-b501-c1aef41c33ca",
   "metadata": {},
   "source": [
    "Q6. Use Bayes' Theorem to calculate the probability of an event occurring given prior knowledge of the\n",
    "event's probability and new evidence. Provide a sample problem and solution."
   ]
  },
  {
   "cell_type": "markdown",
   "id": "3e073e0e-3950-4405-969b-b0651c230977",
   "metadata": {},
   "source": [
    "Q7. Calculate the 95% confidence interval for a sample of data with a mean of 50 and a standard deviation\n",
    "of 5. Interpret the results."
   ]
  },
  {
   "cell_type": "code",
   "execution_count": 56,
   "id": "f398a15e-0b3b-49fc-839d-5ca7bd4ce498",
   "metadata": {},
   "outputs": [
    {
     "name": "stderr",
     "output_type": "stream",
     "text": [
      "/tmp/ipykernel_95/2117666949.py:5: DeprecationWarning: Use of keyword argument `alpha` for method `interval` is deprecated. Use first positional argument or keyword argument `confidence` instead.\n",
      "  st.t.interval(alpha=0.95,df=len(data)-1,loc=np.mean(50),scale=st.sem(data))\n"
     ]
    },
    {
     "data": {
      "text/plain": [
       "(41.43139387795087, 58.56860612204913)"
      ]
     },
     "execution_count": 56,
     "metadata": {},
     "output_type": "execute_result"
    }
   ],
   "source": [
    "import scipy.stats as st\n",
    "import matplotlib as plt\n",
    "import numpy as np\n",
    "data = [5,10,15,20,25,5]\n",
    "st.t.interval(alpha=0.95,df=len(data)-1,loc=np.mean(50),scale=st.sem(data))"
   ]
  },
  {
   "cell_type": "markdown",
   "id": "3399dbbc-32b1-4294-ac48-748df464edc7",
   "metadata": {},
   "source": [
    "Q8. What is the margin of error in a confidence interval? How does sample size affect the margin of error?\n",
    "Provide an example of a scenario where a larger sample size would result in a smaller margin of error.\n",
    "\n",
    "Margin of error tells how much you can expect your survey results to reflect the views from the overall population.\n",
    "the larger the sample size, the smaller the sample standard error and therefore the smaller the margin of error."
   ]
  },
  {
   "cell_type": "markdown",
   "id": "93f09770-b208-4c0b-beef-8e076e73f892",
   "metadata": {},
   "source": [
    "Q9. Calculate the z-score for a data point with a value of 75, a population mean of 70, and a population \n",
    "standard deviation of 5. Interpret the results"
   ]
  },
  {
   "cell_type": "code",
   "execution_count": 8,
   "id": "2374a289-4504-4d6e-9018-a64de5d776f3",
   "metadata": {},
   "outputs": [],
   "source": [
    "import scipy.stats as stat"
   ]
  },
  {
   "cell_type": "code",
   "execution_count": 10,
   "id": "77d83e10-9a61-47b4-a414-8cb52c030e77",
   "metadata": {},
   "outputs": [
    {
     "data": {
      "text/plain": [
       "0.6744897501960817"
      ]
     },
     "execution_count": 10,
     "metadata": {},
     "output_type": "execute_result"
    }
   ],
   "source": [
    "z_score = stat.norm.ppf(0.75)\n",
    "z_score"
   ]
  },
  {
   "cell_type": "markdown",
   "id": "c039b29b-8c1e-4cb6-a382-d62c8aa8e9f1",
   "metadata": {},
   "source": [
    "Q10. In a study of the effectiveness of a new weight loss drug, a sample of 50 participants lost an average \n",
    "of 6 pounds with a standard deviation of 2.5 pounds. Conduct a hypothesis test to determine if the drug is \n",
    "significantly effective at a 95% confidence level using a t-test"
   ]
  },
  {
   "cell_type": "code",
   "execution_count": 11,
   "id": "894875f8-7c03-4030-9567-82e173fbd792",
   "metadata": {},
   "outputs": [],
   "source": [
    "population=np.random.randint(10,40,80)\n",
    "sample_data = np.random.choice(population,50)"
   ]
  },
  {
   "cell_type": "code",
   "execution_count": 14,
   "id": "68fd4388-f511-4171-aa6a-10cd38ffc85b",
   "metadata": {},
   "outputs": [],
   "source": [
    "mean = 6\n",
    "std_dev = 2.5"
   ]
  },
  {
   "cell_type": "code",
   "execution_count": 16,
   "id": "d03da708-abb0-45f7-be6e-6808c8e63bae",
   "metadata": {},
   "outputs": [
    {
     "data": {
      "text/plain": [
       "Ttest_1sampResult(statistic=-7.080984044511026, pvalue=4.970003243924475e-09)"
      ]
     },
     "execution_count": 16,
     "metadata": {},
     "output_type": "execute_result"
    }
   ],
   "source": [
    "import scipy\n",
    "scipy.stats.ttest_1samp(sample_data,34)"
   ]
  },
  {
   "cell_type": "code",
   "execution_count": 21,
   "id": "429e1d1e-cb41-402a-b2aa-6493c9576a6c",
   "metadata": {},
   "outputs": [],
   "source": [
    "alpha = 0.095"
   ]
  },
  {
   "cell_type": "code",
   "execution_count": 22,
   "id": "b7f70b74-2677-4183-9958-20d6d9e491fe",
   "metadata": {},
   "outputs": [],
   "source": [
    "pvalue = 4.970"
   ]
  },
  {
   "cell_type": "code",
   "execution_count": 23,
   "id": "59332b25-6ef1-4145-9cb9-da0bdb690384",
   "metadata": {},
   "outputs": [
    {
     "name": "stdout",
     "output_type": "stream",
     "text": [
      "Fail to reject the null hypothesis\n"
     ]
    }
   ],
   "source": [
    "if pvalue<alpha:\n",
    "    print(\"Reject the null hypothesis\")\n",
    "else:\n",
    "    print(\"Fail to reject the null hypothesis\")"
   ]
  },
  {
   "cell_type": "markdown",
   "id": "07674d06-a549-4542-a681-2c31efabf426",
   "metadata": {},
   "source": [
    "Q11. In a survey of 500 people, 65% reported being satisfied with their current job. Calculate the 95% \n",
    "confidence interval for the true proportion of people who are satisfied with their job"
   ]
  },
  {
   "cell_type": "code",
   "execution_count": 24,
   "id": "0033b4f4-e752-4482-9a1f-febe35eb62f4",
   "metadata": {},
   "outputs": [],
   "source": [
    "import scipy.stats as st\n",
    "import matplotlib as plt\n",
    "import numpy as np"
   ]
  },
  {
   "cell_type": "code",
   "execution_count": 28,
   "id": "c7e1b519-7b2d-462e-b968-1da1c4cecc66",
   "metadata": {},
   "outputs": [],
   "source": [
    "population = np.random.randint(10,50,500)\n",
    "sample_data = np.random.choice(population,65)\n",
    "alpha=0.95"
   ]
  },
  {
   "cell_type": "code",
   "execution_count": 30,
   "id": "5a2d56e0-923f-456b-845d-76b7a84d525d",
   "metadata": {},
   "outputs": [
    {
     "data": {
      "text/plain": [
       "(9.113871138095394, 49.83997501575075)"
      ]
     },
     "execution_count": 30,
     "metadata": {},
     "output_type": "execute_result"
    }
   ],
   "source": [
    "confidence_interval = st.norm.interval(alpha,loc=np.mean(sample_data),scale=np.std(sample_data))\n",
    "confidence_interval"
   ]
  },
  {
   "cell_type": "markdown",
   "id": "9a0b7e22-e430-4ab8-aa72-ced4b0f82fd9",
   "metadata": {},
   "source": [
    "Q12. A researcher is testing the effectiveness of two different teaching methods on student performance. \n",
    "Sample A has a mean score of 85 with a standard deviation of 6, while sample B has a mean score of 82 \n",
    "with a standard deviation of 5. Conduct a hypothesis test to determine if the two teaching methods have a \n",
    "significant difference in student performance using a t-test with a significance level of 0.01."
   ]
  },
  {
   "cell_type": "code",
   "execution_count": null,
   "id": "2d0b2aba-4004-4bfe-94e5-ef387029157c",
   "metadata": {},
   "outputs": [],
   "source": [
    "## Two sample test"
   ]
  },
  {
   "cell_type": "code",
   "execution_count": 31,
   "id": "a5bebc03-68cf-48a2-8b25-1135ad4b9fab",
   "metadata": {},
   "outputs": [],
   "source": [
    "population_data1 = np.random.randint(10,50,100)\n",
    "population_data2 = np.random.randint(10,50,150)\n",
    "sample_data1 = np.random.choice(population_data1,50)\n",
    "sample_data2 = np.random.choice(population_data2,50)"
   ]
  },
  {
   "cell_type": "code",
   "execution_count": 32,
   "id": "d74abb1f-25b8-404b-9f4c-cf149e72a001",
   "metadata": {},
   "outputs": [],
   "source": [
    "mean_of_sample1 = 85\n",
    "std_dev_of_sample1 = 6"
   ]
  },
  {
   "cell_type": "code",
   "execution_count": 33,
   "id": "a3ae6cc5-b957-408a-9cb2-a411cce00a67",
   "metadata": {},
   "outputs": [],
   "source": [
    "mean_of_sample2 = 82\n",
    "std_dev_of_sample2 = 5"
   ]
  },
  {
   "cell_type": "code",
   "execution_count": 36,
   "id": "3f24b0a0-aab7-4e3e-a2cf-3522af3d6202",
   "metadata": {},
   "outputs": [
    {
     "data": {
      "text/plain": [
       "Ttest_indResult(statistic=1.4712054225624258, pvalue=0.14443939649750032)"
      ]
     },
     "execution_count": 36,
     "metadata": {},
     "output_type": "execute_result"
    }
   ],
   "source": [
    "import scipy\n",
    "scipy.stats.ttest_ind(sample_data1,sample_data2)"
   ]
  },
  {
   "cell_type": "code",
   "execution_count": 37,
   "id": "72a15144-b07d-41c5-b33e-e8d9b5862052",
   "metadata": {},
   "outputs": [],
   "source": [
    "alpha = 0.01"
   ]
  },
  {
   "cell_type": "code",
   "execution_count": 38,
   "id": "5d4fc4a7-a86b-4755-9906-15be97307c32",
   "metadata": {},
   "outputs": [],
   "source": [
    "pvalue = 0.1444"
   ]
  },
  {
   "cell_type": "code",
   "execution_count": 39,
   "id": "b91290c9-7a74-4b60-8649-d5ee9135d211",
   "metadata": {},
   "outputs": [
    {
     "name": "stdout",
     "output_type": "stream",
     "text": [
      "Fail to reject the null hypothesis\n"
     ]
    }
   ],
   "source": [
    "if pvalue<alpha:\n",
    "    print(\"Reject the null hypothesis\")\n",
    "else:\n",
    "    print(\"Fail to reject the null hypothesis\")"
   ]
  },
  {
   "cell_type": "markdown",
   "id": "3851ed82-0bbb-4059-b5cb-2f7b90826284",
   "metadata": {},
   "source": [
    "Q13. A population has a mean of 60 and a standard deviation of 8. A sample of 50 observations has a mean \n",
    "of 65. Calculate the 90% confidence interval for the true population mean"
   ]
  },
  {
   "cell_type": "code",
   "execution_count": 43,
   "id": "73f625b5-c912-4061-a7af-1ac47bc3f1a6",
   "metadata": {},
   "outputs": [],
   "source": [
    "population = np.random.randint(10,40,100)\n",
    "sample = np.random.choice(population,50)"
   ]
  },
  {
   "cell_type": "code",
   "execution_count": 44,
   "id": "85e22e8f-5a3c-4702-86f5-a571a6b4bade",
   "metadata": {},
   "outputs": [],
   "source": [
    "population_mean = 60\n",
    "population_std_dev = 8"
   ]
  },
  {
   "cell_type": "code",
   "execution_count": 47,
   "id": "131de725-5498-48df-8e43-106c5c20181b",
   "metadata": {},
   "outputs": [],
   "source": [
    "sample_mean = 65\n",
    "alpha = 0.90"
   ]
  },
  {
   "cell_type": "code",
   "execution_count": 51,
   "id": "3daf683a-b161-4b18-a604-d74260ea9e5a",
   "metadata": {},
   "outputs": [],
   "source": [
    "import scipy.stats as stat\n",
    "import seaborn as sns"
   ]
  },
  {
   "cell_type": "code",
   "execution_count": 54,
   "id": "80e091dc-fa5c-4766-aed5-eef8fb4cb275",
   "metadata": {},
   "outputs": [
    {
     "data": {
      "text/plain": [
       "<AxesSubplot: ylabel='Count'>"
      ]
     },
     "execution_count": 54,
     "metadata": {},
     "output_type": "execute_result"
    },
    {
     "data": {
      "image/png": "[encoded data removed]",
      "text/plain": [
       "<Figure size 640x480 with 1 Axes>"
      ]
     },
     "metadata": {},
     "output_type": "display_data"
    }
   ],
   "source": [
    "confidence_interval = stat.norm.interval(alpha,loc=population,scale=population_mean)\n",
    "sns.histplot(confidence_interval)"
   ]
  },
  {
   "cell_type": "markdown",
   "id": "d6d7cc93-aaf9-44da-a7b5-a1de65e89ecf",
   "metadata": {},
   "source": [
    "Q14. In a study of the effects of caffeine on reaction time, a sample of 30 participants had an average \n",
    "reaction time of 0.25 seconds with a standard deviation of 0.05 seconds. Conduct a hypothesis test to \n",
    "determine if the caffeine has a significant effect on reaction time at a 90% confidence level using a t-test"
   ]
  },
  {
   "cell_type": "code",
   "execution_count": 68,
   "id": "bd3389c0-354c-47c8-96bc-4023c88bc846",
   "metadata": {},
   "outputs": [],
   "source": [
    "population=np.random.randint(10,40,80)\n",
    "sample_data = np.random.choice(population,30)"
   ]
  },
  {
   "cell_type": "code",
   "execution_count": 69,
   "id": "bc2f817f-f0d6-494a-9d85-3e0ee2325fa5",
   "metadata": {},
   "outputs": [],
   "source": [
    "mean = 0.25\n",
    "std_dev = 0.05"
   ]
  },
  {
   "cell_type": "code",
   "execution_count": 79,
   "id": "b8e12242-11ad-4b94-b55e-7bd038a501bd",
   "metadata": {},
   "outputs": [
    {
     "data": {
      "text/plain": [
       "Ttest_1sampResult(statistic=-4.790752356314704, pvalue=4.536767927445486e-05)"
      ]
     },
     "execution_count": 79,
     "metadata": {},
     "output_type": "execute_result"
    }
   ],
   "source": [
    "import scipy\n",
    "scipy.stats.ttest_1samp(sample_data,30)"
   ]
  },
  {
   "cell_type": "code",
   "execution_count": 80,
   "id": "919ae945-60f5-4a30-b824-6bffd43936ce",
   "metadata": {},
   "outputs": [],
   "source": [
    "alpha = 0.95"
   ]
  },
  {
   "cell_type": "code",
   "execution_count": 81,
   "id": "d365eacd-19a0-4957-af6a-6a14d7318dbe",
   "metadata": {},
   "outputs": [],
   "source": [
    "pvalue = 4.536767927445486e-05"
   ]
  },
  {
   "cell_type": "code",
   "execution_count": 82,
   "id": "64adf7d7-0d42-4e70-87fc-94fc73f27d33",
   "metadata": {},
   "outputs": [
    {
     "name": "stdout",
     "output_type": "stream",
     "text": [
      "Reject the null hypothesis\n"
     ]
    }
   ],
   "source": [
    "if pvalue<alpha:\n",
    "    print(\"Reject the null hypothesis\")\n",
    "else:\n",
    "    print(\"Fail to reject the null hypothesis\")"
   ]
  }
 ],
 "metadata": {
  "kernelspec": {
   "display_name": "Python 3 (ipykernel)",
   "language": "python",
   "name": "python3"
  },
  "language_info": {
   "codemirror_mode": {
    "name": "ipython",
    "version": 3
   },
   "file_extension": ".py",
   "mimetype": "text/x-python",
   "name": "python",
   "nbconvert_exporter": "python",
   "pygments_lexer": "ipython3",
   "version": "3.10.8"
  }
 },
 "nbformat": 4,
 "nbformat_minor": 5
}
