{
 "cells": [
  {
   "cell_type": "markdown",
   "id": "e953d163-b900-4f47-b024-203064891709",
   "metadata": {},
   "source": [
    "Q1. What is Bayes' theorem?\n",
    "\n",
    "Bayes' theorem is a fundamental principle in probability theory that describes how to update the probability of a hypothesis based on new evidence."
   ]
  },
  {
   "cell_type": "markdown",
   "id": "b0abd168-d360-4d2c-9e35-4db98ce2413b",
   "metadata": {},
   "source": [
    "Q2. What is the formula for Bayes' theorem?\n",
    "\n",
    "The formula for Bayes' theorem is:\n",
    "\n",
    "𝑃\n",
    "(\n",
    "𝐴\n",
    "∣\n",
    "𝐵\n",
    ")\n",
    "=\n",
    "𝑃\n",
    "(\n",
    "𝐵\n",
    "∣\n",
    "𝐴\n",
    ")\n",
    "⋅\n",
    "𝑃\n",
    "(\n",
    "𝐴\n",
    ")\n",
    "𝑃\n",
    "(\n",
    "𝐵\n",
    ")\n",
    "P(A∣B)= \n",
    "P(B)\n",
    "P(B∣A)⋅P(A)\n",
    "​\n",
    " \n",
    "\n",
    "This formula helps calculate the probability of event \n",
    "𝐴\n",
    "A occurring given that event \n",
    "𝐵\n",
    "B has occurred."
   ]
  },
  {
   "cell_type": "markdown",
   "id": "9acb6baf-1529-49f9-bc58-dfbb12ebc476",
   "metadata": {},
   "source": [
    "Q3. How is Bayes' theorem used in practice?\n",
    "\n",
    "Bayes' theorem is used in practice to update the probability of a hypothesis based on new evidence. Some common applications include:\n",
    "\n",
    "Medical Diagnosis: Estimating the probability of a disease given a positive test result.\n",
    "Spam Filtering: Determining the likelihood that an email is spam based on its content.\n",
    "Machine Learning: Updating predictions or models as new data becomes available.\n",
    "Risk Assessment: Evaluating the probability of various risks in finance, insurance, and other fields based on prior data.\n",
    "In each case, Bayes' theorem combines prior knowledge with new information to make more accurate predictions or decisions."
   ]
  },
  {
   "cell_type": "markdown",
   "id": "ed604c39-2216-4064-b292-061c560aa916",
   "metadata": {},
   "source": [
    "Q4. What is the relationship between Bayes' theorem and conditional probability?\n",
    "\n",
    "Bayes' theorem is fundamentally built on the concept of conditional probability. It provides a way to reverse conditional probabilities. Specifically, it allows us to find the probability of event \n",
    "𝐴\n",
    "A given \n",
    "𝐵\n",
    "B ( \n",
    "𝑃\n",
    "(\n",
    "𝐴\n",
    "∣\n",
    "𝐵\n",
    ")\n",
    "P(A∣B) ) using the probability of event \n",
    "𝐵\n",
    "B given \n",
    "𝐴\n",
    "A ( \n",
    "𝑃\n",
    "(\n",
    "𝐵\n",
    "∣\n",
    "𝐴\n",
    ")\n",
    "P(B∣A) ), along with the probabilities of \n",
    "𝐴\n",
    "A and \n",
    "𝐵\n",
    "B. In essence, Bayes' theorem transforms known conditional probabilities and prior probabilities into a new conditional probability."
   ]
  },
  {
   "cell_type": "markdown",
   "id": "8573ba21-2cf5-4466-9009-23e8451a3130",
   "metadata": {},
   "source": [
    "Q5. How do you choose which type of Naive Bayes classifier to use for any given problem?\n",
    "\n",
    "Choosing the type of Naive Bayes classifier depends on the nature of your data:\n",
    "\n",
    "Gaussian Naive Bayes: Use when your features are continuous and follow a normal distribution.\n",
    "Multinomial Naive Bayes: Use for discrete data, particularly when you have count-based features like word counts in text classification.\n",
    "Bernoulli Naive Bayes: Use for binary/boolean features, such as presence/absence of words in text.\n",
    "Select the classifier that aligns with the distribution and type of your input features for the best performance."
   ]
  },
  {
   "cell_type": "markdown",
   "id": "cbfe7444-d95f-4f7f-b579-40858ea11b32",
   "metadata": {},
   "source": [
    "Q6. Assignment:\n",
    "You have a dataset with two features, X1 and X2, and two possible classes, A and B. You want to use Naive\n",
    "Bayes to classify a new instance with features X1 = 3 and X2 = 4. The following table shows the frequency of\n",
    "each feature value for each class:\n",
    "Class X1=1 X1=2 X1=3 X2=1 X2=2 X2=3 X2=4\n",
    "A 3 3 4 4 3 3 3\n",
    "B 2 2 1 2 2 2 3\n",
    "Assuming equal prior probabilities for each class, which class would Naive Bayes predict the new instance\n",
    "to belong to?"
   ]
  },
  {
   "cell_type": "code",
   "execution_count": null,
   "id": "c1eb762d-8855-476c-9e3e-c042e57836f1",
   "metadata": {},
   "outputs": [],
   "source": []
  },
  {
   "cell_type": "code",
   "execution_count": null,
   "id": "9c5d5c86-799f-4604-bd97-f5c267aa30f6",
   "metadata": {},
   "outputs": [],
   "source": []
  },
  {
   "cell_type": "code",
   "execution_count": null,
   "id": "9bf69353-49d2-4f68-91b4-ebba2dad3df8",
   "metadata": {},
   "outputs": [],
   "source": []
  }
 ],
 "metadata": {
  "kernelspec": {
   "display_name": "Python 3 (ipykernel)",
   "language": "python",
   "name": "python3"
  },
  "language_info": {
   "codemirror_mode": {
    "name": "ipython",
    "version": 3
   },
   "file_extension": ".py",
   "mimetype": "text/x-python",
   "name": "python",
   "nbconvert_exporter": "python",
   "pygments_lexer": "ipython3",
   "version": "3.10.8"
  }
 },
 "nbformat": 4,
 "nbformat_minor": 5
}
