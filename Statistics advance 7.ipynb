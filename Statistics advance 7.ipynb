{
 "cells": [
  {
   "cell_type": "markdown",
   "id": "94b10a76-ae0b-4225-a36b-1015430c659e",
   "metadata": {},
   "source": [
    "Q1. Write a Python function that takes in two arrays of data and calculates the F-value for a variance ratio test. The function should return the F-value and the corresponding p-value for the test. "
   ]
  },
  {
   "cell_type": "code",
   "execution_count": 3,
   "id": "7e5942ba-c5dc-488d-b316-0e3c5458f2dc",
   "metadata": {},
   "outputs": [
    {
     "name": "stdout",
     "output_type": "stream",
     "text": [
      "Degree of freedom 1: 24\n",
      "Degree of freedom 2: 19\n",
      "F-statistic: 0.8747753893882163\n",
      "p-value: 0.37368484814304814\n"
     ]
    }
   ],
   "source": [
    "import numpy as np\n",
    "import scipy.stats as stats\n",
    " \n",
    "# Create the data for two groups\n",
    "group1 = np.random.rand(25)\n",
    "group2 = np.random.rand(20)\n",
    " \n",
    "# Calculate the sample variances\n",
    "variance1 = np.var(group1, ddof=1)\n",
    "variance2 = np.var(group2, ddof=1)\n",
    " \n",
    "# Calculate the F-statistic\n",
    "f_value = variance1 / variance2\n",
    " \n",
    "# Calculate the degrees of freedom\n",
    "df1 = len(group1) - 1\n",
    "df2 = len(group2) - 1\n",
    " \n",
    "# Calculate the p-value\n",
    "p_value = stats.f.cdf(f_value, df1, df2)\n",
    " \n",
    "# Print the results\n",
    "print('Degree of freedom 1:',df1)\n",
    "print('Degree of freedom 2:',df2)\n",
    "print(\"F-statistic:\", f_value)\n",
    "print(\"p-value:\", p_value)"
   ]
  },
  {
   "cell_type": "markdown",
   "id": "68fc04e4-e7d1-4145-ad80-59b3fbbcf695",
   "metadata": {},
   "source": [
    "Q2. Given a significance level of 0.05 and the degrees of freedom for the numerator and denominator of an  F-distribution, write a Python function that returns the critical F-value for a two-tailed test. "
   ]
  },
  {
   "cell_type": "code",
   "execution_count": 9,
   "id": "74f88bb8-c946-49cf-9937-f2214a67d554",
   "metadata": {},
   "outputs": [
    {
     "name": "stdout",
     "output_type": "stream",
     "text": [
      "Critical F value: 4.533676950275243\n"
     ]
    }
   ],
   "source": [
    "# Importing library \n",
    "import scipy.stats\n",
    "\n",
    "#define parameters\n",
    "significance_level = 0.05\n",
    "num_degrees_of_freedom = 4\n",
    "den_degrees_of_freedom = 6\n",
    "\n",
    "## calculate f critical\n",
    "scipy.stats.f.ppf(significance_level,num_degrees_of_freedom,den_degrees_of_freedom)\n",
    "\n",
    "# Determine the F critical value \n",
    "print('Critical F value:',scipy.stats.f.ppf(q=1-.05, dfn=4, dfd=6))"
   ]
  },
  {
   "cell_type": "markdown",
   "id": "32736d47-5cf8-4669-a7dc-ae3756093152",
   "metadata": {},
   "source": [
    "Q3. Write a Python program that generates random samples from two normal distributions with known variances and uses an F-test to determine if the variances are equal. The program should output the F value, degrees of freedom, and p-value for the test. "
   ]
  },
  {
   "cell_type": "code",
   "execution_count": 3,
   "id": "1f3b5ec8-f32b-48fc-8a46-a66772838d62",
   "metadata": {},
   "outputs": [
    {
     "name": "stderr",
     "output_type": "stream",
     "text": [
      "/opt/conda/lib/python3.10/site-packages/numpy/core/fromnumeric.py:3715: RuntimeWarning: Degrees of freedom <= 0 for slice\n",
      "  return _methods._var(a, axis=axis, dtype=dtype, out=out, ddof=ddof,\n",
      "/opt/conda/lib/python3.10/site-packages/numpy/core/_methods.py:257: RuntimeWarning: invalid value encountered in double_scalars\n",
      "  ret = ret.dtype.type(ret / rcount)\n"
     ]
    },
    {
     "ename": "TypeError",
     "evalue": "object of type 'float' has no len()",
     "output_type": "error",
     "traceback": [
      "\u001b[0;31m---------------------------------------------------------------------------\u001b[0m",
      "\u001b[0;31mTypeError\u001b[0m                                 Traceback (most recent call last)",
      "Cell \u001b[0;32mIn[3], line 12\u001b[0m\n\u001b[1;32m      8\u001b[0m variance2 \u001b[38;5;241m=\u001b[39m np\u001b[38;5;241m.\u001b[39mvar(group2, ddof\u001b[38;5;241m=\u001b[39m\u001b[38;5;241m1\u001b[39m)\n\u001b[1;32m     10\u001b[0m f_value \u001b[38;5;241m=\u001b[39m variance1 \u001b[38;5;241m/\u001b[39m variance2\n\u001b[0;32m---> 12\u001b[0m df1 \u001b[38;5;241m=\u001b[39m \u001b[38;5;28;43mlen\u001b[39;49m\u001b[43m(\u001b[49m\u001b[43mgroup1\u001b[49m\u001b[43m)\u001b[49m \u001b[38;5;241m-\u001b[39m \u001b[38;5;241m1\u001b[39m\n\u001b[1;32m     13\u001b[0m df2 \u001b[38;5;241m=\u001b[39m \u001b[38;5;28mlen\u001b[39m(group2) \u001b[38;5;241m-\u001b[39m \u001b[38;5;241m1\u001b[39m\n\u001b[1;32m     15\u001b[0m p_value \u001b[38;5;241m=\u001b[39m stats\u001b[38;5;241m.\u001b[39mf\u001b[38;5;241m.\u001b[39mcdf(f_value, df1, df2)\n",
      "\u001b[0;31mTypeError\u001b[0m: object of type 'float' has no len()"
     ]
    }
   ],
   "source": [
    "import numpy as np\n",
    "import scipy.stats as stat\n",
    "\n",
    "group1 = np.random.normal(20)\n",
    "group2 = np.random.normal(20)\n",
    "\n",
    "variance1 = np.var(group1, ddof=1)\n",
    "variance2 = np.var(group2, ddof=1)\n",
    "\n",
    "f_value = variance1 / variance2\n",
    "\n",
    "df1 = len(group1) - 1\n",
    "df2 = len(group2) - 1\n",
    "\n",
    "p_value = stats.f.cdf(f_value, df1, df2)\n",
    " \n",
    "print('Degree of freedom 1:',df1)\n",
    "print('Degree of freedom 2:',df2)\n",
    "print(\"F-statistic:\", f_value)\n",
    "print(\"p-value:\", p_value)"
   ]
  },
  {
   "cell_type": "markdown",
   "id": "9f7d6fb0-a778-4577-86d2-f47a4a43af54",
   "metadata": {},
   "source": [
    "Q4.The variances of two populations are known to be 10 and 15. A sample of 12 observations is taken from each population. Conduct an F-test at the 5% significance level to determine if the variances are significantly different. "
   ]
  },
  {
   "cell_type": "code",
   "execution_count": 16,
   "id": "6caf3316-dfee-4707-bd7a-f7f386fe905a",
   "metadata": {},
   "outputs": [
    {
     "name": "stdout",
     "output_type": "stream",
     "text": [
      "Degree of freedom 1: 9\n",
      "Degree of freedom 2: 14\n",
      "F-statistic: 0.6666666666666666\n",
      "p-value: 0.27402523433013104\n"
     ]
    }
   ],
   "source": [
    "import numpy as np\n",
    "import scipy.stats as stats\n",
    " \n",
    "# Calculate the sample variances\n",
    "variance1 = 10\n",
    "variance2 = 15\n",
    " \n",
    "# Calculate the F-statistic\n",
    "f_value = variance1 / variance2\n",
    " \n",
    "# Calculate the p-value\n",
    "p_value = stats.f.cdf(f_value,df1,df2 )\n",
    " \n",
    "# Print the results\n",
    "print('Degree of freedom 1:',df1)\n",
    "print('Degree of freedom 2:',df2)\n",
    "print(\"F-statistic:\", f_value)\n",
    "print(\"p-value:\", p_value)"
   ]
  },
  {
   "cell_type": "markdown",
   "id": "b58d82c1-8d62-469e-af4f-1885d51c9ef2",
   "metadata": {},
   "source": [
    "Q5. A manufacturer claims that the variance of the diameter of a certain product is 0.005. A sample of 25  products is taken, and the sample variance is found to be 0.006. Conduct an F-test at the 1% significance  level to determine if the claim is justified. "
   ]
  },
  {
   "cell_type": "code",
   "execution_count": 17,
   "id": "69aa86bd-fe7c-473c-b735-e2e958400fc3",
   "metadata": {},
   "outputs": [
    {
     "name": "stdout",
     "output_type": "stream",
     "text": [
      "Degree of freedom 1: 9\n",
      "Degree of freedom 2: 14\n",
      "F-statistic: -0.001\n",
      "p-value: 0.0\n"
     ]
    }
   ],
   "source": [
    "import numpy as np\n",
    "import scipy.stats as stats\n",
    "\n",
    "variance1 = 0.005\n",
    "variance2 = 0.006\n",
    "\n",
    "## calculate the f test\n",
    "f_value = variance1-variance2\n",
    "\n",
    "## calculate the pvalue\n",
    "p_value = stats.f.cdf(f_value,df1,df2 )\n",
    "\n",
    "# Print the results\n",
    "print('Degree of freedom 1:',df1)\n",
    "print('Degree of freedom 2:',df2)\n",
    "print(\"F-statistic:\", f_value)\n",
    "print(\"p-value:\", p_value)"
   ]
  },
  {
   "cell_type": "markdown",
   "id": "42c2536f-a918-4295-9d07-b60b9b06f0b7",
   "metadata": {},
   "source": [
    "Q6. Write a Python function that takes in the degrees of freedom for the numerator and denominator of an F-distribution and calculates the mean and variance of the distribution. The function should return the  mean and variance as a tuple"
   ]
  },
  {
   "cell_type": "code",
   "execution_count": null,
   "id": "68e110fd-df95-49be-8e54-e64f127dcbfd",
   "metadata": {},
   "outputs": [],
   "source": []
  },
  {
   "cell_type": "markdown",
   "id": "cb585567-de48-4873-bb32-c8d143ac9b89",
   "metadata": {},
   "source": [
    "Q7. A random sample of 10 measurements is taken from a normal population with unknown variance. The sample variance is found to be 25. Another random sample of 15 measurements is taken from another  normal population with unknown variance, and the sample variance is found to be 20. Conduct an F-test  at the 10% significance level to determine if the variances are significantly different. "
   ]
  },
  {
   "cell_type": "code",
   "execution_count": 8,
   "id": "4e76e0ba-9208-46ef-87c2-bc3462993799",
   "metadata": {},
   "outputs": [
    {
     "name": "stdout",
     "output_type": "stream",
     "text": [
      "Degree of freedom 1: 5\n",
      "Degree of freedom 2: 5\n",
      "F-statistic: 1.25\n",
      "p-value: 0.5937329346279384\n",
      "Reject the null hypothesis\n"
     ]
    }
   ],
   "source": [
    "import numpy as np\n",
    "import scipy.stats as stats\n",
    " \n",
    "# Calculate the sample variances\n",
    "variance1 = 25\n",
    "variance2 = 20\n",
    "alpha = 10\n",
    " \n",
    "# Calculate the F-statistic\n",
    "f_value = variance1 / variance2\n",
    " \n",
    "# Calculate the p-value\n",
    "p_value = stats.f.cdf(f_value,df1,df2 )\n",
    " \n",
    "# Print the results\n",
    "print('Degree of freedom 1:',df1)\n",
    "print('Degree of freedom 2:',df2)\n",
    "print(\"F-statistic:\", f_value)\n",
    "print(\"p-value:\", p_value)\n",
    "\n",
    "if p_value < alpha:\n",
    "    print(\"Reject the null hypothesis\")\n",
    "else:\n",
    "    print(\"Fail to reject the null hypothesis\")"
   ]
  },
  {
   "cell_type": "markdown",
   "id": "4ed2ca77-0516-4088-bde2-69a7f75a8544",
   "metadata": {},
   "source": [
    "Q8. The following data represent the waiting times in minutes at two different restaurants on a Saturday  night: Restaurant A: 24, 25, 28, 23, 22, 20, 27; Restaurant B: 31, 33, 35, 30, 32, 36. Conduct an F-test at the 5% significance level to determine if the variances are significantly different."
   ]
  },
  {
   "cell_type": "code",
   "execution_count": 6,
   "id": "7fa8bd30-8305-4db6-be68-7401734139e7",
   "metadata": {},
   "outputs": [
    {
     "name": "stdout",
     "output_type": "stream",
     "text": [
      "Degree of freedom 1: 6\n",
      "Degree of freedom 2: 6\n",
      "F-statistic: 0.9425287356321841\n",
      "p-value: 0.4722794950006727\n",
      "Fail to reject the null hypothesis\n"
     ]
    }
   ],
   "source": [
    "import numpy as np\n",
    "import scipy.stats as stats\n",
    " \n",
    "# Create the data for two groups\n",
    "restraA = 24,25,28,23,22,20,27\n",
    "restraB = 31,33,35,30,32,36,38\n",
    "alpha = 0.05\n",
    " \n",
    "# Calculate the sample variances\n",
    "variance1 = np.var(restraA, ddof=1)\n",
    "variance2 = np.var(restraB, ddof=1)\n",
    " \n",
    "# Calculate the F-statistic\n",
    "f_value = variance1 / variance2\n",
    " \n",
    "# Calculate the degrees of freedom\n",
    "df1 = len(restraA) - 1\n",
    "df2 = len(restraB) - 1\n",
    " \n",
    "# Calculate the p-value\n",
    "p_value = stats.f.cdf(f_value, df1, df2)\n",
    "\n",
    "# Print the results\n",
    "print('Degree of freedom 1:',df1)\n",
    "print('Degree of freedom 2:',df2)\n",
    "print(\"F-statistic:\", f_value)\n",
    "print(\"p-value:\", p_value)\n",
    "\n",
    "if p_value < alpha:\n",
    "    print(\"Reject the null hypothesis\")\n",
    "else:\n",
    "    print(\"Fail to reject the null hypothesis\")"
   ]
  },
  {
   "cell_type": "markdown",
   "id": "e659bced-87bd-44f7-9faa-6789e0d2d878",
   "metadata": {},
   "source": [
    "Q9. The following data represent the test scores of two groups of students: Group A: 80, 85, 90, 92, 87, 83;  Group B: 75, 78, 82, 79, 81, 84. Conduct an F-test at the 1% significance level to determine if the variances  are significantly different. "
   ]
  },
  {
   "cell_type": "code",
   "execution_count": 7,
   "id": "ea2c9df8-6b36-4e7a-a52c-5f7d32b92390",
   "metadata": {},
   "outputs": [
    {
     "name": "stdout",
     "output_type": "stream",
     "text": [
      "Degree of freedom 1: 5\n",
      "Degree of freedom 2: 5\n",
      "F-statistic: 1.9442622950819677\n",
      "p-value: 0.7584478225464656\n",
      "Fail to reject the null hypothesis\n"
     ]
    }
   ],
   "source": [
    "import numpy as np\n",
    "import scipy.stats as stats\n",
    " \n",
    "# Create the data for two groups\n",
    "groupA = 80,85,90,92,87,83\n",
    "groupB = 75,78,82,79,81,84\n",
    "alpha = 0.01\n",
    " \n",
    "# Calculate the sample variances\n",
    "variance1 = np.var(groupA, ddof=1)\n",
    "variance2 = np.var(groupB, ddof=1)\n",
    " \n",
    "# Calculate the F-statistic\n",
    "f_value = variance1 / variance2\n",
    " \n",
    "# Calculate the degrees of freedom\n",
    "df1 = len(groupA) - 1\n",
    "df2 = len(groupB) - 1\n",
    " \n",
    "# Calculate the p-value\n",
    "p_value = stats.f.cdf(f_value, df1, df2)\n",
    "\n",
    "# Print the results\n",
    "print('Degree of freedom 1:',df1)\n",
    "print('Degree of freedom 2:',df2)\n",
    "print(\"F-statistic:\", f_value)\n",
    "print(\"p-value:\", p_value)\n",
    "\n",
    "if p_value < alpha:\n",
    "    print(\"Reject the null hypothesis\")\n",
    "else:\n",
    "    print(\"Fail to reject the null hypothesis\")"
   ]
  }
 ],
 "metadata": {
  "kernelspec": {
   "display_name": "Python 3 (ipykernel)",
   "language": "python",
   "name": "python3"
  },
  "language_info": {
   "codemirror_mode": {
    "name": "ipython",
    "version": 3
   },
   "file_extension": ".py",
   "mimetype": "text/x-python",
   "name": "python",
   "nbconvert_exporter": "python",
   "pygments_lexer": "ipython3",
   "version": "3.10.8"
  }
 },
 "nbformat": 4,
 "nbformat_minor": 5
}
