{
 "cells": [
  {
   "cell_type": "markdown",
   "id": "d49dd4ff-75bc-439d-919a-1df76b8a0383",
   "metadata": {},
   "source": [
    "Consider following code to answer further questions:\n",
    "import pandas as pd\n",
    "course_name = [‘Data Science’, ‘Machine Learning’, ‘Big Data’, ‘Data Engineer’]\n",
    "duration = [2,3,6,4]\n",
    "df = pd.DataFrame(data = {‘course_name’ : course_name, ‘duration’ : duration})\n",
    "Q1. Write a code to print the data present in the second row of the dataframe, df."
   ]
  },
  {
   "cell_type": "code",
   "execution_count": 5,
   "id": "c1ac70f8-6467-468a-962d-08ac00f7d44c",
   "metadata": {},
   "outputs": [
    {
     "data": {
      "text/html": [
       "<div>\n",
       "<style scoped>\n",
       "    .dataframe tbody tr th:only-of-type {\n",
       "        vertical-align: middle;\n",
       "    }\n",
       "\n",
       "    .dataframe tbody tr th {\n",
       "        vertical-align: top;\n",
       "    }\n",
       "\n",
       "    .dataframe thead th {\n",
       "        text-align: right;\n",
       "    }\n",
       "</style>\n",
       "<table border=\"1\" class=\"dataframe\">\n",
       "  <thead>\n",
       "    <tr style=\"text-align: right;\">\n",
       "      <th></th>\n",
       "      <th>course_name</th>\n",
       "      <th>duration</th>\n",
       "    </tr>\n",
       "  </thead>\n",
       "  <tbody>\n",
       "    <tr>\n",
       "      <th>0</th>\n",
       "      <td>Data Science</td>\n",
       "      <td>2</td>\n",
       "    </tr>\n",
       "    <tr>\n",
       "      <th>1</th>\n",
       "      <td>Machine Learning</td>\n",
       "      <td>3</td>\n",
       "    </tr>\n",
       "    <tr>\n",
       "      <th>2</th>\n",
       "      <td>Big Data</td>\n",
       "      <td>6</td>\n",
       "    </tr>\n",
       "    <tr>\n",
       "      <th>3</th>\n",
       "      <td>Data Engineer</td>\n",
       "      <td>4</td>\n",
       "    </tr>\n",
       "  </tbody>\n",
       "</table>\n",
       "</div>"
      ],
      "text/plain": [
       "        course_name  duration\n",
       "0      Data Science         2\n",
       "1  Machine Learning         3\n",
       "2          Big Data         6\n",
       "3     Data Engineer         4"
      ]
     },
     "execution_count": 5,
     "metadata": {},
     "output_type": "execute_result"
    }
   ],
   "source": [
    "import pandas as pd\n",
    "course_name = ['Data Science', 'Machine Learning', 'Big Data', 'Data Engineer']\n",
    "duration = [2,3,6,4]\n",
    "df = pd.DataFrame(data = {'course_name' : course_name, 'duration' : duration})\n",
    "df"
   ]
  },
  {
   "cell_type": "code",
   "execution_count": 6,
   "id": "b8c21f35-4310-4eeb-ad58-5622f061fd50",
   "metadata": {},
   "outputs": [
    {
     "name": "stdout",
     "output_type": "stream",
     "text": [
      "course_name    Machine Learning\n",
      "duration                      3\n",
      "Name: 1, dtype: object\n"
     ]
    }
   ],
   "source": [
    "second_row = df.iloc[1]\n",
    "print(second_row)"
   ]
  },
  {
   "cell_type": "markdown",
   "id": "135e9a6d-5c42-4725-b892-1da638100235",
   "metadata": {},
   "source": [
    "Q2. What is the difference between the functions loc and iloc in pandas.DataFrame?\n",
    "\n",
    "loc: Accesses data using label-based indexing. It is used with row and column labels.\n",
    "iloc: Accesses data using integer-based indexing. It is used with row and column positions (indices).\n",
    "loc uses labels (names).\n",
    "iloc uses positions (indices)."
   ]
  },
  {
   "cell_type": "markdown",
   "id": "578ce300-4a15-4dea-b74c-54710ce91592",
   "metadata": {},
   "source": [
    "Q3. Reindex the given dataframe using a variable, reindex = [3,0,1,2] and store it in the variable, new_df\n",
    "then find the output for both new_df.loc[2] and new_df.iloc[2].\n",
    "Did you observe any difference in both the outputs? If so then explain it.\n",
    "Consider the below code to answer further questions:\n",
    "import pandas as pd\n",
    "import numpy as np\n",
    "columns = ['column_1', 'column_2', 'column_3', 'column_4', 'column_5', 'column_6']\n",
    "indices = [1,2,3,4,5,6]\n",
    "#Creating a dataframe:\n",
    "df1 = pd.DataFrame(np.random.rand(6,6), columns = columns, index = indices)"
   ]
  },
  {
   "cell_type": "code",
   "execution_count": 8,
   "id": "0ab1e9ce-82ea-4fd4-b691-948d89432a9c",
   "metadata": {},
   "outputs": [
    {
     "name": "stdout",
     "output_type": "stream",
     "text": [
      "new_df.loc[2]:\n",
      "course_name    Big Data\n",
      "duration              6\n",
      "Name: 2, dtype: object\n",
      "\n",
      "new_df.iloc[2]:\n",
      "course_name    Machine Learning\n",
      "duration                      3\n",
      "Name: 1, dtype: object\n"
     ]
    }
   ],
   "source": [
    "import pandas as pd\n",
    "\n",
    "# Original DataFrame\n",
    "course_name = ['Data Science', 'Machine Learning', 'Big Data', 'Data Engineer']\n",
    "duration = [2, 3, 6, 4]\n",
    "\n",
    "df = pd.DataFrame(data={'course_name': course_name, 'duration': duration})\n",
    "\n",
    "# Reindexing the DataFrame\n",
    "reindex = [3, 0, 1, 2]\n",
    "new_df = df.reindex(reindex)\n",
    "\n",
    "# Outputs\n",
    "loc_output = new_df.loc[2]\n",
    "iloc_output = new_df.iloc[2]\n",
    "\n",
    "print(\"new_df.loc[2]:\")\n",
    "print(loc_output)\n",
    "print(\"\\nnew_df.iloc[2]:\")\n",
    "print(iloc_output)"
   ]
  },
  {
   "cell_type": "markdown",
   "id": "46171f42-4446-4bd6-9f40-04dd40d865e4",
   "metadata": {},
   "source": [
    "Q4. Write a code to find the following statistical measurements for the above dataframe df1:\n",
    "(i) mean of each and every column present in the dataframe.\n",
    "(ii) standard deviation of ‘column_2’"
   ]
  },
  {
   "cell_type": "code",
   "execution_count": 9,
   "id": "416e43bb-1f61-4afc-8c5e-bc3eb653177a",
   "metadata": {},
   "outputs": [
    {
     "name": "stdout",
     "output_type": "stream",
     "text": [
      "Mean of each column:\n",
      " column_1    0.599600\n",
      "column_2    0.609615\n",
      "column_3    0.386070\n",
      "column_4    0.344954\n",
      "column_5    0.376200\n",
      "column_6    0.594233\n",
      "dtype: float64\n",
      "\n",
      "Standard deviation of 'column_2': 0.2975554916205232\n"
     ]
    }
   ],
   "source": [
    "import pandas as pd\n",
    "import numpy as np\n",
    "\n",
    "columns = ['column_1', 'column_2', 'column_3', 'column_4', 'column_5', 'column_6'] \n",
    "indices = [1,2,3,4,5,6] #Creating a dataframe: \n",
    "df1 = pd.DataFrame(np.random.rand(6,6), columns = columns, index = indices)\n",
    "\n",
    "# Assuming df1 is already defined and contains the data\n",
    "\n",
    "# (i) Mean of each and every column present in the dataframe\n",
    "means = df1.mean()\n",
    "\n",
    "# (ii) Standard deviation of column 'column_2'\n",
    "std_column_2 = df1['column_2'].std()\n",
    "\n",
    "# Print the results\n",
    "print(\"Mean of each column:\\n\", means)\n",
    "print(\"\\nStandard deviation of 'column_2':\", std_column_2)"
   ]
  },
  {
   "cell_type": "markdown",
   "id": "f1bc970d-3d1c-4465-9b8c-99077ee13c63",
   "metadata": {},
   "source": [
    "Q5. Replace the data present in the second row of column, ‘column_2’ by a string variable then find the\n",
    "mean of column, column_2.\n",
    "If you are getting errors in executing it then explain why.\n",
    "[Hint: To replace the data use df1.loc[] and equate this to string data of your choice.]"
   ]
  },
  {
   "cell_type": "code",
   "execution_count": 10,
   "id": "7e875966-b7dc-4afe-9c36-86f00c8a483d",
   "metadata": {},
   "outputs": [
    {
     "name": "stdout",
     "output_type": "stream",
     "text": [
      "Error: unsupported operand type(s) for +: 'float' and 'str'\n"
     ]
    }
   ],
   "source": [
    "import pandas as pd\n",
    "import numpy as np\n",
    "\n",
    "# Create a DataFrame\n",
    "columns = ['column_1', 'column_2', 'column_3', 'column_4', 'column_5', 'column_6']\n",
    "indices = [1, 2, 3, 4, 5, 6]\n",
    "df1 = pd.DataFrame(np.random.rand(6, 6), columns=columns, index=indices)\n",
    "\n",
    "# Replace the data in the second row of 'column_2' with a string\n",
    "df1.loc[2, 'column_2'] = 'string_value'\n",
    "# Try to calculate the mean of 'column_2'\n",
    "try:\n",
    "    mean_column_2 = df1['column_2'].mean()\n",
    "    print(\"Mean of 'column_2':\", mean_column_2)\n",
    "except Exception as e:\n",
    "    print(\"Error:\", e)\n",
    "    \n",
    "#Getting an error because The mean() function will raise an error because it expects all values in the column to be numerical.\n",
    "#This error occurs because the mean() function encounters a string value where it expects a number, and it cannot convert the string to a float."
   ]
  },
  {
   "cell_type": "markdown",
   "id": "8fd399b0-5b61-4e18-941e-45756c7e4b3f",
   "metadata": {},
   "source": [
    "Q6. What do you understand about the windows function in pandas and list the types of windows\n",
    "functions?\n",
    "\n",
    "In pandas, a \"window function\" refers to operations that perform calculations across a specified range or window of rows.\n",
    "Types of windows function:\n",
    "1.Rolling window\n",
    "2.Weighted window\n",
    "3.Expanding window\n",
    "4.Exponentially Weighted window"
   ]
  },
  {
   "cell_type": "markdown",
   "id": "5285cea4-15e2-41ef-8acd-12d4638118b4",
   "metadata": {},
   "source": [
    "Q7. Write a code to print only the current month and year at the time of answering this question.\n",
    "[Hint: Use pandas.datetime function]"
   ]
  },
  {
   "cell_type": "code",
   "execution_count": 11,
   "id": "a0a30470-325c-49bd-91fb-4b3394dc8b0c",
   "metadata": {},
   "outputs": [
    {
     "name": "stdout",
     "output_type": "stream",
     "text": [
      "Current Month: 6,Current Year: 2024\n"
     ]
    },
    {
     "name": "stderr",
     "output_type": "stream",
     "text": [
      "/tmp/ipykernel_84/7758525.py:4: FutureWarning: The parsing of 'now' in pd.to_datetime without `utc=True` is deprecated. In a future version, this will match Timestamp('now') and Timestamp.now()\n",
      "  current_datetime = pd.to_datetime(\"now\")\n"
     ]
    }
   ],
   "source": [
    "import pandas as pd\n",
    "\n",
    "# Get the current date and time\n",
    "current_datetime = pd.to_datetime(\"now\")\n",
    "\n",
    "# Extract the current month and year\n",
    "current_month = current_datetime.month\n",
    "current_year = current_datetime.year\n",
    "\n",
    "# Print the current month and year\n",
    "print(f\"Current Month: {current_month},Current Year: {current_year}\")"
   ]
  },
  {
   "cell_type": "markdown",
   "id": "4fd68449-4508-4719-8cbb-1d534b4087b3",
   "metadata": {},
   "source": [
    "Q8. Write a Python program that takes in two dates as input (in the format YYYY-MM-DD) and\n",
    "calculates the difference between them in days, hours, and minutes using Pandas time delta. The\n",
    "program should prompt the user to enter the dates and display the result."
   ]
  },
  {
   "cell_type": "code",
   "execution_count": null,
   "id": "126ceb95-1b1c-4501-bfb4-1dc03bfd8cc6",
   "metadata": {},
   "outputs": [],
   "source": [
    "import pandas as pd\n",
    "\n",
    "# Function to calculate the difference between two dates\n",
    "def calculate_time_difference(date1, date2):\n",
    "    # Convert the input strings to datetime objects\n",
    "    datetime1 = pd.to_datetime(date1)\n",
    "    datetime2 = pd.to_datetime(date2)\n",
    "    \n",
    "    # Calculate the time difference\n",
    "    time_difference = datetime2 - datetime1\n",
    "    \n",
    "    # Extract days, hours, and minutes from the time difference\n",
    "    days = time_difference.days\n",
    "    seconds = time_difference.seconds\n",
    "    hours = seconds // 3600\n",
    "    minutes = (seconds % 3600) // 60\n",
    "    \n",
    "    return days, hours, minutes\n",
    "\n",
    "# Prompt the user to enter the two dates\n",
    "date1 = input(\"Enter the first date (YYYY-MM-DD): \")\n",
    "date2 = input(\"Enter the second date (YYYY-MM-DD): \")\n",
    "# Calculate the time difference\n",
    "days, hours, minutes = calculate_time_difference(date1, date2)\n",
    "\n",
    "# Display the result\n",
    "print(f\"Difference: {days} days, {hours} hours, and {minutes} minutes\")"
   ]
  },
  {
   "cell_type": "markdown",
   "id": "98343e5b-80a1-458f-aec3-480ad0ecdf9d",
   "metadata": {},
   "source": [
    "Q9. Write a Python program that reads a CSV file containing categorical data and converts a specified\n",
    "column to a categorical data type. The program should prompt the user to enter the file path, column\n",
    "name, and category order, and then display the sorted data."
   ]
  },
  {
   "cell_type": "code",
   "execution_count": null,
   "id": "88888f87-347e-4415-b7e6-cb317c7f09a2",
   "metadata": {},
   "outputs": [
    {
     "name": "stdin",
     "output_type": "stream",
     "text": [
      "Enter the file path:  \"C:\\Users\\jjiya\\Downloads\\Global_Superstore(CSV).csv\"\n",
      "Enter the column name to convert to categorical:  Quantity\n"
     ]
    }
   ],
   "source": [
    "import pandas as pd\n",
    "\n",
    "# Function to read CSV and convert specified column to categorical type\n",
    "def convert_column_to_categorical(file_path, column_name, category_order):\n",
    "    # Read the CSV file\n",
    "    df = pd.read_csv(file_path)\n",
    "    \n",
    "    # Convert the specified column to categorical with the given order\n",
    "    df[column_name] = pd.Categorical(df[column_name], categories=category_order, ordered=True)\n",
    "    \n",
    "    # Sort the DataFrame by the categorical column\n",
    "    df_sorted = df.sort_values(by=column_name)\n",
    "    \n",
    "    return df_sorted\n",
    "\n",
    "# Prompt the user to enter the file path, column name, and category order\n",
    "file_path = input(\"Enter the file path: \")\n",
    "column_name = input(\"Enter the column name to convert to categorical: \")\n",
    "category_order = input(\"Enter the category order (comma-separated values): \").split(',')\n",
    "\n",
    "# Convert the specified column to categorical and sort the data\n",
    "sorted_df = convert_column_to_categorical(file_path, column_name, category_order)\n",
    "\n",
    "# Display the sorted data\n",
    "print(\"Sorted DataFrame:\")\n",
    "print(sorted_df)"
   ]
  },
  {
   "cell_type": "markdown",
   "id": "cbb56107-1182-48b0-ac4b-a6a7ae91eda9",
   "metadata": {},
   "source": [
    "Q10. Write a Python program that reads a CSV file containing sales data for different products and\n",
    "visualizes the data using a stacked bar chart to show the sales of each product category over time. The\n",
    "program should prompt the user to enter the file path and display the chart."
   ]
  },
  {
   "cell_type": "code",
   "execution_count": 3,
   "id": "a075c525-be92-47d8-a97e-1f63be065569",
   "metadata": {},
   "outputs": [
    {
     "name": "stdin",
     "output_type": "stream",
     "text": [
      "Enter the path to the CSV file:  \"C:\\Users\\jjiya\\Downloads\\Global_Superstore(CSV).csv\"\n"
     ]
    },
    {
     "name": "stdout",
     "output_type": "stream",
     "text": [
      "Error reading the file: [Errno 2] No such file or directory: '\"C:\\\\Users\\\\jjiya\\\\Downloads\\\\Global_Superstore(CSV).csv\"'\n"
     ]
    }
   ],
   "source": [
    "import pandas as pd\n",
    "import matplotlib.pyplot as plt\n",
    "\n",
    "def read_csv_file(file_path):\n",
    "    \"\"\"\n",
    "    Reads the CSV file from the given file path and returns a DataFrame.\n",
    "    \"\"\"\n",
    "    try:\n",
    "        data = pd.read_csv(file_path)\n",
    "        return data\n",
    "    except Exception as e:\n",
    "        print(f\"Error reading the file: {e}\")\n",
    "        return None\n",
    "\n",
    "def visualize_sales_data(data):\n",
    "    \"\"\"\n",
    "    Visualizes the sales data using a stacked bar chart.\n",
    "    \"\"\"\n",
    "    # Ensure the data contains the expected columns\n",
    "    if 'Date' not in data.columns or 'Product' not in data.columns or 'Sales' not in data.columns:\n",
    "        print(\"The CSV file must contain 'Date', 'Product', and 'Sales' columns.\")\n",
    "        return\n",
    "    \n",
    "    # Convert 'Date' column to datetime\n",
    "    data['Date'] = pd.to_datetime(data['Date'])\n",
    "\n",
    "    # Pivot the data to have products as columns and dates as rows\n",
    "    pivot_data = data.pivot_table(index='Date', columns='Product', values='Sales', aggfunc='sum', fill_value=0)\n",
    "\n",
    "    # Plot the data using a stacked bar chart\n",
    "    pivot_data.plot(kind='bar', stacked=True, figsize=(10, 7))\n",
    "\n",
    "    # Set the title and labels\n",
    "    plt.title('Sales of Each Product Category Over Time')\n",
    "    plt.xlabel('Date')\n",
    "    plt.ylabel('Sales')\n",
    "    plt.legend(title='Product')\n",
    "\n",
    "    # Display the plot\n",
    "    plt.show()\n",
    "\n",
    "def main():\n",
    "    # Prompt the user to enter the file path\n",
    "    file_path = input(\"Enter the path to the CSV file: \")\n",
    "    \n",
    "    # Read the CSV file\n",
    "    data = read_csv_file(file_path)\n",
    "    \n",
    "    # If data is successfully read, visualize it\n",
    "    if data is not None:\n",
    "        visualize_sales_data(data)\n",
    "\n",
    "if __name__ == \"__main__\":\n",
    "    main()"
   ]
  },
  {
   "cell_type": "markdown",
   "id": "9fcbd03f-1a4b-45c4-bcac-32e67c006c95",
   "metadata": {},
   "source": [
    "Q11. You are given a CSV file containing student data that includes the student ID and their test score. Write\n",
    "a Python program that reads the CSV file, calculates the mean, median, and mode of the test scores, and\n",
    "displays the results in a table.\n",
    "Assume the CSV file contains the following columnsM\n",
    "I Student ID: The ID of the studentR\n",
    "I Test Score: The score of the student's test.\n",
    "Example usage of the program:\n",
    "Enter the file path of the CSV file containing the student data: student_data.csv\n",
    "+-----------+--------+\n",
    "| Statistic | Value |\n",
    "+-----------+--------+\n",
    "| Mean | 79.6 |\n",
    "| Median | 82 |\n",
    "| Mode | 85, 90 |\n",
    "+-----------+--------+\n",
    "Assume that the CSV file student_data.csv contains the following data:\n",
    "Student ID,Test Score\n",
    "1,85\n",
    "2,90\n",
    "3,80\n",
    "4,75\n",
    "5,85\n",
    "6,82\n",
    "7,78\n",
    "8,85\n",
    "9,90\n",
    "10,85\n",
    "The program should calculate the mean, median, and mode of the test scores and display the results\n",
    "in a table."
   ]
  },
  {
   "cell_type": "markdown",
   "id": "885e83d4-b14c-437a-9e91-d0262c5c48d4",
   "metadata": {},
   "source": [
    "import pandas as pd\n",
    "from statistics import mean, median, mode, multimode\n",
    "from tabulate import tabulate\n",
    "\n",
    "def read_csv_file(file_path):\n",
    "    \"\"\"\n",
    "    Reads the CSV file from the given file path and returns a DataFrame.\n",
    "    \"\"\"\n",
    "    try:\n",
    "        data = pd.read_csv(file_path)\n",
    "        return data\n",
    "    except Exception as e:\n",
    "        print(f\"Error reading the file: {e}\")\n",
    "        return None\n",
    "\n",
    "def calculate_statistics(scores):\n",
    "    \"\"\"\n",
    "    Calculates the mean, median, and mode of the test scores.\n",
    "    \"\"\"\n",
    "    mean_score = mean(scores)\n",
    "    median_score = median(scores)\n",
    "    mode_scores = multimode(scores)\n",
    "    \n",
    "    # Convert mode scores to a comma-separated string\n",
    "    mode_scores_str = ', '.join(map(str, mode_scores))\n",
    "    \n",
    "    return mean_score, median_score, mode_scores_str\n",
    "\n",
    "def display_statistics(mean_score, median_score, mode_scores_str):\n",
    "    \"\"\"\n",
    "    Displays the statistics in a table.\n",
    "    \"\"\"\n",
    "    table = [\n",
    "        [\"Statistic\", \"Value\"],\n",
    "        [\"Mean\", mean_score],\n",
    "        [\"Median\", median_score],\n",
    "        [\"Mode\", mode_scores_str]\n",
    "    ]\n",
    "    \n",
    "    print(tabulate(table, headers=\"firstrow\", tablefmt=\"grid\"))\n",
    "\n",
    "def main():\n",
    "    # Prompt the user to enter the file path\n",
    "    file_path = input(\"Enter the path to the CSV file containing the student data: \")\n",
    "    \n",
    "    # Read the CSV file\n",
    "    data = read_csv_file(file_path)\n",
    "    \n",
    "    # If data is successfully read, calculate and display statistics\n",
    "    if data is not None:\n",
    "        if 'Test Score' in data.columns:\n",
    "            scores = data['Test Score']\n",
    "            mean_score, median_score, mode_scores_str = calculate_statistics(scores)\n",
    "            display_statistics(mean_score, median_score, mode_scores_str)\n",
    "        else:\n",
    "            print(\"The CSV file must contain a 'Test Score' column.\")\n",
    "    \n",
    "if __name__ == \"__main__\":\n",
    "    main()"
   ]
  }
 ],
 "metadata": {
  "kernelspec": {
   "display_name": "Python 3 (ipykernel)",
   "language": "python",
   "name": "python3"
  },
  "language_info": {
   "codemirror_mode": {
    "name": "ipython",
    "version": 3
   },
   "file_extension": ".py",
   "mimetype": "text/x-python",
   "name": "python",
   "nbconvert_exporter": "python",
   "pygments_lexer": "ipython3",
   "version": "3.10.8"
  }
 },
 "nbformat": 4,
 "nbformat_minor": 5
}
