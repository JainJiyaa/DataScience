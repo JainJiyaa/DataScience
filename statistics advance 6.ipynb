{
 "cells": [
  {
   "cell_type": "markdown",
   "id": "84084ae2-9545-40ce-9838-aa5fbdf2d7f2",
   "metadata": {},
   "source": [
    "Q1. Explain the assumptions required to use ANOVA and provide examples of violations that could impact \n",
    "the validity of the results\n",
    "\n",
    "There are three primary assumptions in ANNOVA:\n",
    "1. The responses for each factor level have a normal distribution.\n",
    "2. It has the same variance.\n",
    "3. The data are independent.\n",
    "\n",
    "Violations of the normality assumption which means the Type1 error rate remains close to the alpha level specified in the test.\n",
    "Violations of homogenity of variances assumption can be more impactful, especially when sample sizes are unequal between conditions."
   ]
  },
  {
   "cell_type": "markdown",
   "id": "f1b874bc-9ad8-452c-999a-22c350152cad",
   "metadata": {},
   "source": [
    "Q2. What are the three types of ANOVA, and in what situations would each be used?\n",
    "\n",
    "One way = you can find the difference in between many things.\n",
    "N way = more than two independent variables can used.\n",
    "Two way ANNOVA = it is utilized to observe the interaction between the two factors at the same time."
   ]
  },
  {
   "cell_type": "markdown",
   "id": "bf12be7f-742a-436c-9092-4632e1c206b1",
   "metadata": {},
   "source": [
    "Q3. What is the partitioning of variance in ANOVA, and why is it important to understand this concept?\n",
    "\n",
    "The concept of ANNOVA revolves around comparing the within factor variance with the between factor variances.\n",
    "This comparison is made by partioning the total variability of the response into two important components:\n",
    "SSE and SSR.\n",
    "It is important to understand because it improves scalability, reduce contention, and optimize performance."
   ]
  },
  {
   "cell_type": "markdown",
   "id": "423a65d1-a241-481a-aacc-c25d391f9cfc",
   "metadata": {},
   "source": [
    "Q4. How would you calculate the total sum of squares (SST), explained sum of squares (SSE), and residual \n",
    "sum of squares (SSR) in a one-way ANOVA using Python?\n",
    "\n",
    "1. Sum of Squares Total (SST) – The sum of squared differences between individual data points (yi) and the mean of the response variable (y).\n",
    "\n",
    "SST = Σ(yi – y)2\n",
    "\n",
    "2. Sum of Squares Regression (SSR) – The sum of squared differences between predicted data points (ŷi) and the mean of the response variable(y).\n",
    "\n",
    "SSR = Σ(ŷi – y)2\n",
    "\n",
    "3. Sum of Squares Error (SSE) – The sum of squared differences between predicted data points (ŷi) and observed data points (yi).\n",
    "\n",
    "SSE = Σ(ŷi – yi)2"
   ]
  },
  {
   "cell_type": "markdown",
   "id": "1e372f86-6f42-4152-8325-adb5a8b87a94",
   "metadata": {},
   "source": [
    "Q5. In a two-way ANOVA, how would you calculate the main effects and interaction effects using Python?\n",
    "\n",
    "Formula of main effect.\n",
    "We can then calculate the main effect of SSA based on the following formula.\n",
    "\n",
    "SSA=∑ni(¯xi−¯x)2\n",
    "\n",
    "\n",
    "Method 1\n",
    "We can calculate the interaction effect of SSAB using the following formula.\n",
    "\n",
    "SSAB =SSM – SSA– SSB\n",
    "\n",
    "Thus, we can get the SSAB as 1620.\n",
    "\n",
    "SSAB =8345 – 5445- 1280 =1620\n",
    "\n",
    "The degree of freedom for SSAB is calculated as follows. Thus, the degree of freedom for SSAB is 1.\n",
    "\n",
    "dfAB=dfM-dfA-dfB=3-1-1=1"
   ]
  },
  {
   "cell_type": "code",
   "execution_count": null,
   "id": "795d29ab-691c-4c0d-a4f3-3fe82dd50979",
   "metadata": {},
   "outputs": [],
   "source": []
  },
  {
   "cell_type": "code",
   "execution_count": null,
   "id": "9f016755-e439-4f2d-b95a-289d44f12b4b",
   "metadata": {},
   "outputs": [],
   "source": []
  },
  {
   "cell_type": "code",
   "execution_count": null,
   "id": "e21a6bf2-7903-44fc-a4ea-aaa675b8ae44",
   "metadata": {},
   "outputs": [],
   "source": []
  }
 ],
 "metadata": {
  "kernelspec": {
   "display_name": "Python 3 (ipykernel)",
   "language": "python",
   "name": "python3"
  },
  "language_info": {
   "codemirror_mode": {
    "name": "ipython",
    "version": 3
   },
   "file_extension": ".py",
   "mimetype": "text/x-python",
   "name": "python",
   "nbconvert_exporter": "python",
   "pygments_lexer": "ipython3",
   "version": "3.10.8"
  }
 },
 "nbformat": 4,
 "nbformat_minor": 5
}
