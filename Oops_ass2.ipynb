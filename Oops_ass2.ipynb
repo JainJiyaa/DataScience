{
 "cells": [
  {
   "cell_type": "markdown",
   "id": "1a688af7-124b-40de-9dca-5fbfebcf411a",
   "metadata": {},
   "source": [
    "Q1. What is Abstraction in OOps? Explain with an example.\n",
    "Q2. Differentiate between Abstraction and Encapsulation. Explain with an example.\n",
    "Q3. What is abc module in python? Why is it used?\n",
    "Q4. How can we achieve data abstraction?\n",
    "Q5. Can we create an instance of an abstract class? Explain your answer."
   ]
  },
  {
   "cell_type": "code",
   "execution_count": 4,
   "id": "7bed5161-bdba-4335-a44c-7279c273252b",
   "metadata": {},
   "outputs": [],
   "source": [
    "#Abstraction is one of the fundamental concepts in object-oriented programming (OOP). \n",
    "#In OOP, abstraction allows you to focus on what an object does rather than how it achieves its behavior.\n",
    "\n",
    "class Car:\n",
    "    def __init__(self, brand, model, color):\n",
    "        self.brand = brand\n",
    "        self.model = model\n",
    "        self.color = color\n",
    "        self.speed = 0\n",
    "    \n",
    "    def start(self):\n",
    "        print(\"The car has started.\")\n",
    "\n",
    "    def stop(self):\n",
    "        print(\"The car has stopped.\")\n",
    "\n",
    "    def accelerate(self):\n",
    "        self.speed += 10\n",
    "        print(f\"The car is now moving at {self.speed} km/h.\")\n",
    "\n",
    "    def brake(self):\n",
    "        if self.speed > 0:\n",
    "            self.speed -= 10\n",
    "            print(f\"The car is now moving at {self.speed} km/h.\")\n",
    "        else:\n",
    "            print(\"The car is already stationary.\")"
   ]
  },
  {
   "cell_type": "markdown",
   "id": "0e530e93-2c69-437b-8bd9-494b869f03d8",
   "metadata": {},
   "source": [
    "Abstraction:\n",
    "\n",
    "Abstraction focuses on hiding unnecessary details while emphasizing essential features.\n",
    "It allows you to represent real-world objects in a simplified manner, focusing only on relevant aspects.\n",
    "Example: In a Car class, methods like start(), stop(), accelerate(), and brake() abstract away the internal mechanisms of the car's engine,transmission, and braking system. \n",
    "Users interact with these high-level methods without needing to understand the intricate details of how each action is implemented.\n",
    "\n",
    "Encapsulation:\n",
    "\n",
    "Encapsulation focuses on bundling data (attributes) and methods (functions) that operate on the data into a single unit, called a class.\n",
    "Encapsulation provides data protection and prevents unauthorized access to the internal state of an object.\n",
    "Example: In a Car class, attributes like brand, model, color, and speed are encapsulated within the class. They are accessed and modified through getter and setter methods, ensuring controlled access to the internal state of the car. For instance, the speed attribute may be private, and the accelerate() method would be responsible for updating it based on user input."
   ]
  },
  {
   "cell_type": "markdown",
   "id": "3e65807f-95f2-40ee-a90a-542c446b8e12",
   "metadata": {},
   "source": [
    "The abc module in Python stands for Abstract Base Classes. It's used to define abstract base classes, which are classes that cannot be instantiated directly but serve as templates for subclasses.\n",
    "\n",
    "It's used to enforce a common API among a group of subclasses, ensuring that they all implement certain methods or properties. This helps in achieving code consistency, reliability, and maintainability by providing a clear structure for inheritance."
   ]
  },
  {
   "cell_type": "markdown",
   "id": "71e378fc-88c4-4bb9-bc52-c83095f658c6",
   "metadata": {},
   "source": [
    "Classes and Objects\n",
    "Access Control\n",
    "Abstraction Mechanisms\n",
    "Inheritance\n",
    "By following these principles and utilizing appropriate language features, you can achieve data abstraction in Python, focusing on essential aspects while hiding unnecessary details."
   ]
  },
  {
   "cell_type": "code",
   "execution_count": null,
   "id": "5eebf309-0d65-4d09-b8cf-e76c0eb6e827",
   "metadata": {},
   "outputs": [],
   "source": [
    "#No, we cannot create an instance of an abstract class directly in Python.\n",
    "\n",
    "#Here is an example:\n",
    "from abc import ABC, abstractmethod\n",
    "\n",
    "class Shape(ABC):\n",
    "    @abstractmethod\n",
    "    def area(self):\n",
    "        pass\n",
    "\n",
    "class Circle(Shape):\n",
    "    def __init__(self, radius):\n",
    "        self.radius = radius\n",
    "\n",
    "    def area(self):\n",
    "        return 3.14 * self.radius ** 2\n",
    "\n",
    "# Attempt to create an instance of the abstract class Shape\n",
    "shape = Shape()  # This will raise a TypeError"
   ]
  },
  {
   "cell_type": "code",
   "execution_count": null,
   "id": "1064e707-95b4-4265-b9e9-f1d374fb7dc5",
   "metadata": {},
   "outputs": [],
   "source": []
  }
 ],
 "metadata": {
  "kernelspec": {
   "display_name": "Python 3 (ipykernel)",
   "language": "python",
   "name": "python3"
  },
  "language_info": {
   "codemirror_mode": {
    "name": "ipython",
    "version": 3
   },
   "file_extension": ".py",
   "mimetype": "text/x-python",
   "name": "python",
   "nbconvert_exporter": "python",
   "pygments_lexer": "ipython3",
   "version": "3.10.8"
  }
 },
 "nbformat": 4,
 "nbformat_minor": 5
}
