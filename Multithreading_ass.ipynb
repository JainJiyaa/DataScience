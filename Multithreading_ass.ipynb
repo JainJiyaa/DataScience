{
 "cells": [
  {
   "cell_type": "markdown",
   "id": "940fa8dd-add3-4ee5-8397-5fd817db89ee",
   "metadata": {},
   "source": [
    "Q1. What is multithreading in python? Why is it used? Name the module used to handle threads in python.\n",
    "\n",
    "Multithreading in Python is a technique where multiple threads are created within a single process, allowing for concurrent execution of tasks. It is used to improve the performance of programs by running multiple operations simultaneously, which is particularly beneficial for I/O-bound tasks.\n",
    "\n",
    "The module used to handle threads in Python is called threading."
   ]
  },
  {
   "cell_type": "markdown",
   "id": "5065d1ce-77ea-46b0-b536-9f9e4c421d1f",
   "metadata": {},
   "source": [
    "Q2. Why threading module used? Write the use of the following functions:\n",
    "activeCount()\n",
    "currentThread()\n",
    "enumerate()\n",
    "\n",
    "The threading module is used in Python to achieve concurrent execution of tasks, making programs more efficient, especially for I/O-bound operations like file reading/writing or network communication.\n",
    "1.activeCount():\n",
    "Use: Returns the number of Thread objects currently alive. This is useful for monitoring or debugging to know how many threads are running at any given time.\n",
    "\n",
    "2.currentThread():\n",
    "Use: Returns the Thread object representing the current thread of execution. This can be useful for getting information about the thread that is currently running.\n",
    "\n",
    "3.enumerate():\n",
    "Use: Returns a list of all Thread objects currently alive. This is helpful for obtaining a snapshot of all threads that are currently active"
   ]
  },
  {
   "cell_type": "markdown",
   "id": "d110932b-576b-4d16-9a8c-2090c26f1c7e",
   "metadata": {},
   "source": [
    "Q3.Explain the following functions\n",
    "run()\n",
    "start()\n",
    "join()\n",
    "isAlive()\n",
    "\n",
    "Here are the explanations for the run(), start(), join(), and isAlive() functions from the threading.Thread class in Python:\n",
    "1.run():\n",
    "Use: Contains the code that the thread will execute. We generally override this method in a subclass to define the thread's activity.\n",
    "\n",
    "2.start():\n",
    "Use: Begins the thread's activity by calling the run() method in a separate thread of control. This must be called at most once per thread object.\n",
    "\n",
    "3.join():\n",
    "Use: Waits for the thread to complete its execution. This blocks the calling thread until the thread whose join() method is called terminates.\n",
    "\n",
    "4.isAlive():\n",
    "Use: Checks whether the thread is still running. It returns True if the thread is alive, and False otherwise."
   ]
  },
  {
   "cell_type": "code",
   "execution_count": 2,
   "id": "34d8f714-4a31-4747-b6d2-81398e8f16f3",
   "metadata": {},
   "outputs": [
    {
     "name": "stdout",
     "output_type": "stream",
     "text": [
      "Squares: [1, 4, 9, 16, 25, 36, 49, 64, 81, 100]\n",
      "Cubes: [1, 8, 27, 64, 125, 216, 343, 512, 729, 1000]\n"
     ]
    }
   ],
   "source": [
    "#Q4.Write a python program to create two threads. Thread one must print the list of squares and thread\n",
    "#two must print the list of cubes.\n",
    "\n",
    "#Here's a short Python program to create two threads: one to print a list of squares and the other to print a list of cubes:\n",
    "import threading\n",
    "\n",
    "def print_squares():\n",
    "    squares = [i ** 2 for i in range(1, 11)]\n",
    "    print(\"Squares:\", squares)\n",
    "\n",
    "def print_cubes():\n",
    "    cubes = [i ** 3 for i in range(1, 11)]\n",
    "    print(\"Cubes:\", cubes)\n",
    "\n",
    "# Create threads\n",
    "thread1 = threading.Thread(target=print_squares)\n",
    "thread2 = threading.Thread(target=print_cubes)\n",
    "\n",
    "# Start threads\n",
    "thread1.start()\n",
    "thread2.start()\n",
    "# Wait for threads to complete\n",
    "thread1.join()\n",
    "thread2.join()"
   ]
  },
  {
   "cell_type": "markdown",
   "id": "c93b8162-3ece-4f75-bcc0-5249f3b3b8ad",
   "metadata": {},
   "source": [
    "Q5.State advantages and disadvantages of multithreading.\n",
    "\n",
    "ADVANTAGES:\n",
    "1.Allows multiple operations to run simultaneously, improving program efficiency.\n",
    "2.Threads within the same process share memory and resources, reducing overhead.\n",
    "3.Enhances the responsiveness of applications, especially in user interfaces.\n",
    "\n",
    "DISADVANTAGES:\n",
    "1.Increases the complexity of program design and debugging.\n",
    "2.Can lead to race conditions, where threads interfere with each other, causing unpredictable results.\n",
    "3.Potential for deadlocks, where two or more threads are stuck waiting for each other indefinitely."
   ]
  },
  {
   "cell_type": "markdown",
   "id": "62b48d69-ccfa-4596-8c7a-a0577ff3ddd1",
   "metadata": {},
   "source": [
    "Q6.Explain deadlocks and race conditions.\n",
    "\n",
    "Deadlocks\n",
    "Definition: A situation where two or more threads are unable to proceed because each is waiting for the other to release resources.\n",
    "Example: Thread A holds Lock 1 and waits for Lock 2, while Thread B holds Lock 2 and waits for Lock 1.\n",
    "\n",
    "Race Conditions\n",
    "Definition: A condition where the outcome of a program depends on the timing and sequence of thread execution.\n",
    "Example: Two threads incrementing the same counter variable simultaneously, leading to incorrect results."
   ]
  }
 ],
 "metadata": {
  "kernelspec": {
   "display_name": "Python 3 (ipykernel)",
   "language": "python",
   "name": "python3"
  },
  "language_info": {
   "codemirror_mode": {
    "name": "ipython",
    "version": 3
   },
   "file_extension": ".py",
   "mimetype": "text/x-python",
   "name": "python",
   "nbconvert_exporter": "python",
   "pygments_lexer": "ipython3",
   "version": "3.10.8"
  }
 },
 "nbformat": 4,
 "nbformat_minor": 5
}
