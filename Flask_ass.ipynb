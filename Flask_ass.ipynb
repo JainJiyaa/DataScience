{
 "cells": [
  {
   "cell_type": "markdown",
   "id": "77868ef5-2939-4dab-95e9-3fc7eab9bf17",
   "metadata": {},
   "source": [
    "Q1. Explain GET and POST methods.\n",
    "\n",
    "GET and POST are two of the most commonly used HTTP methods in web development for communication between clients and servers.\n",
    "Key Differences\n",
    "Data Transmission: GET sends data via URL, POST sends data in the body.\n",
    "Usage Intent: GET for retrieving, POST for creating/updating.\n",
    "Idempotency: GET is idempotent, POST is not.\n",
    "Caching: GET responses can be cached, POST responses usually are not.\n",
    "These methods are foundational for interacting with web services and APIs, enabling various operations like data retrieval, submission, and updates."
   ]
  },
  {
   "cell_type": "markdown",
   "id": "7537326e-0d21-4ddc-9bd3-b1c5b148ae80",
   "metadata": {},
   "source": [
    "Q2. Why is request used in Flask?\n",
    "\n",
    "In Flask, the request object is used to access and handle incoming HTTP requests. It provides a way to retrieve data sent by the client (e.g., web browsers, API clients) to the server.\n",
    "\n",
    "In Flask, the request object is essential for:\n",
    "1.Accessing form data\n",
    "2.Retrieving query parameters\n",
    "3.Handling JSON data\n",
    "4.Reading request headers\n",
    "5.Managing file uploads"
   ]
  },
  {
   "cell_type": "markdown",
   "id": "03bf397c-ce96-45c4-8547-0a900a81254f",
   "metadata": {},
   "source": [
    "Q3. Why is redirect() used in Flask?\n",
    "\n",
    "In Flask, the redirect() function is used to redirect the user's browser to a different URL. This is useful for several scenarios, such as:\n",
    "1.After Form Submission\n",
    "2.URL Redirection\n",
    "3.Authentication and Authorization\n",
    "It helps in controlling the user's navigation and improving the user experience by guiding them to appropriate pages based on actions or conditions."
   ]
  },
  {
   "cell_type": "markdown",
   "id": "15fe276b-f026-4345-a143-4bd6af4d3d51",
   "metadata": {},
   "source": [
    "Q4. What are templates in Flask? Why is the render_template() function used?\n",
    "\n",
    "TEMPLATES: In Flask, templates are HTML files that contain placeholders for dynamic content.\n",
    "Separation of concerns, reusability, and maintainability of code.\n",
    "\n",
    "RENDER_TEMPLATES: The render_template() function is used to render these templates and pass dynamic data to them for rendering.\n",
    "Simplifies the process of rendering HTML content dynamically by handling template rendering and data passing. "
   ]
  },
  {
   "cell_type": "markdown",
   "id": "595e3683-6c90-4723-abc0-2949899a5be1",
   "metadata": {},
   "source": [
    "Q5. Create a simple API. Use Postman to test it.\n",
    "\n",
    "Step 1: Create the Flask API\n",
    "from flask import Flask, jsonify, request\n",
    "\n",
    "app = Flask(__name__)\n",
    "\n",
    "@app.route('/api/users', methods=['GET'])\n",
    "def get_users():\n",
    "    users = [\n",
    "        {'id': 1, 'name': 'John'},\n",
    "        {'id': 2, 'name': 'Alice'},\n",
    "        {'id': 3, 'name': 'Bob'}\n",
    "    ]\n",
    "    return jsonify(users)\n",
    "\n",
    "@app.route('/api/user', methods=['POST'])\n",
    "def create_user():\n",
    "    data = request.get_json()\n",
    "    # Process and save the new user data\n",
    "    return jsonify({'message': 'User created successfully'})\n",
    "\n",
    "if __name__ == '__main__':\n",
    "    app.run(debug=True)\n",
    "    \n",
    "    \n",
    "Step 2: Test the API using Postman\n",
    "Open Postman and create a new request.\n",
    "\n",
    "Set the request method to GET.\n",
    "\n",
    "Enter the URL http://localhost:5000/api/users.\n",
    "\n",
    "Send the request and observe the response containing a list of users.\n",
    "\n",
    "Create another request and set the method to POST.\n",
    "\n",
    "Enter the URL http://localhost:5000/api/user.\n",
    "\n",
    "In the request body, select raw and set the content type to JSON.\n",
    "\n",
    "Enter the JSON data for creating a new user, for example:\n",
    "\n",
    "json\n",
    "{\n",
    "    \"name\": \"Emily\"\n",
    "}\n",
    "Send the request and verify the response message indicating successful user creation.\n",
    "\n",
    "That's it! We'hv created a simple API with Flask and tested it using Postman. We can further extend this API by adding more endpoints and functionalities as needed.\n",
    "\n",
    "\n",
    "\n",
    "\n",
    "\n",
    "\n",
    "\n",
    "\n"
   ]
  },
  {
   "cell_type": "code",
   "execution_count": null,
   "id": "249bc1bf-3f0e-4c55-91d7-9b9301ff9c2d",
   "metadata": {},
   "outputs": [],
   "source": []
  }
 ],
 "metadata": {
  "kernelspec": {
   "display_name": "Python 3 (ipykernel)",
   "language": "python",
   "name": "python3"
  },
  "language_info": {
   "codemirror_mode": {
    "name": "ipython",
    "version": 3
   },
   "file_extension": ".py",
   "mimetype": "text/x-python",
   "name": "python",
   "nbconvert_exporter": "python",
   "pygments_lexer": "ipython3",
   "version": "3.10.8"
  }
 },
 "nbformat": 4,
 "nbformat_minor": 5
}
