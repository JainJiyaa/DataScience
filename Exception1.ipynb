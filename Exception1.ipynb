{
 "cells": [
  {
   "cell_type": "markdown",
   "id": "ca302400-759e-45e2-aeb4-74e71ef7bc1f",
   "metadata": {},
   "source": [
    "1.what is an exception in python? write the difference between exceptions and syntax errors\n",
    "\n",
    "An exception in Python is an error that occurs during the execution of a program, disrupting its normal flow.\n",
    "\n",
    "Differences Between Exceptions and Syntax Errors (in short):\n",
    "\n",
    "Exceptions:\n",
    "Occurrence: During program execution (runtime).\n",
    "Handling: Can be caught and handled using try and except blocks.\n",
    "Example: ZeroDivisionError.\n",
    "\n",
    "Syntax Errors:\n",
    "Occurrence: When the code is parsed (before execution).\n",
    "Handling: Cannot be handled at runtime; must be corrected before execution.\n",
    "Example: Missing colon in if statement."
   ]
  },
  {
   "cell_type": "code",
   "execution_count": null,
   "id": "0744204e-e027-41da-9c27-39c3586e5e29",
   "metadata": {},
   "outputs": [],
   "source": [
    "#2.what happens when an exception is not handled? explain with an example.\n",
    "\n",
    "#When an exception is not handled in Python, the program terminates and \n",
    "#displays a traceback, which shows the error type, the error message, and the sequence of function calls that led to the error.\n",
    "#example:\n",
    "# Code without exception handling\n",
    "result = 10 / 0\n",
    "print(\"This line will not be executed\")"
   ]
  },
  {
   "cell_type": "code",
   "execution_count": 1,
   "id": "111d07f7-6baa-4c5d-8034-2a3e52c4581d",
   "metadata": {},
   "outputs": [
    {
     "name": "stdout",
     "output_type": "stream",
     "text": [
      "Cannot divide by zero!\n",
      "This will always be executed.\n"
     ]
    }
   ],
   "source": [
    "#3.which python statements are used to catch and handle exceptions? explain with an example\n",
    "\n",
    "#In Python, the try and except statements are used to catch and handle exceptions. \n",
    "#Optionally, else and finally can also be used for additional #control flow.\n",
    "\n",
    "#Example:\n",
    "try:\n",
    "    result = 10 / 0\n",
    "except ZeroDivisionError:\n",
    "    print(\"Cannot divide by zero!\")\n",
    "else:\n",
    "    print(\"No exceptions occurred.\")\n",
    "finally:\n",
    "    print(\"This will always be executed.\")   "
   ]
  },
  {
   "cell_type": "markdown",
   "id": "1e60d68d-f28b-4f42-a999-3bc50a998c24",
   "metadata": {},
   "source": [
    "4.explai,try and else, finally and raise.\n",
    "\n",
    "try and else:\n",
    "try: Code that might raise an exception.\n",
    "\n",
    "else: Executes if no exceptions occur in the try block.\n",
    "\n",
    "finally:\n",
    "Always executes, whether an exception occurs or not.\n",
    "\n",
    "raise:\n",
    "Manually triggers an exception."
   ]
  },
  {
   "cell_type": "markdown",
   "id": "d862b88d-d4e3-4263-95dd-3d5fb8918559",
   "metadata": {},
   "source": [
    "5.what are custom exceptions in python?why do we need custom exceptions?explain with an example.\n",
    "\n",
    "Custom exceptions in Python are user-defined exceptions that extend the base Exception class. They are useful for creating meaningful and specific error messages that can make debugging and error handling more precise and readable.\n",
    "\n",
    "We Need Custom Exceptions:\n",
    "Clarity: They provide more descriptive error messages specific to the application's domain.\n",
    "Separation of Concerns: Differentiate between various error conditions and handle them appropriately.\n",
    "Code Maintenance: Make the code easier to understand and maintain by providing specific error handling."
   ]
  },
  {
   "cell_type": "code",
   "execution_count": 2,
   "id": "e2ad5cf0-ce9b-4ece-96b4-484ba3422235",
   "metadata": {},
   "outputs": [
    {
     "name": "stdout",
     "output_type": "stream",
     "text": [
      "5 is a positive number.\n",
      "Negative number is not allowed.\n"
     ]
    }
   ],
   "source": [
    "# Define a custom exception\n",
    "class NegativeNumberError(Exception):\n",
    "    def __init__(self, message=\"Negative number is not allowed.\"):\n",
    "        self.message = message\n",
    "        super().__init__(self.message)\n",
    "\n",
    "# Function that uses the custom exception\n",
    "def check_positive(number):\n",
    "    if number < 0:\n",
    "        raise NegativeNumberError()\n",
    "    else:\n",
    "        print(f\"{number} is a positive number.\")\n",
    "\n",
    "# Using the function\n",
    "try:\n",
    "    check_positive(5)   # Positive number\n",
    "    check_positive(-3)  # Raises NegativeNumberError\n",
    "except NegativeNumberError as e:\n",
    "    print(e)"
   ]
  },
  {
   "cell_type": "markdown",
   "id": "46e0db8d-5c69-4f52-a1d0-e3bcee7dda4c",
   "metadata": {},
   "source": [
    "6.create a custom exception class.use this class to handle exception.\n",
    "\n",
    "Define Custom Exception Class:\n",
    "Use Custom Exception in a Function"
   ]
  },
  {
   "cell_type": "markdown",
   "id": "4f33172f-2070-4f09-8b02-f911d5b99bd7",
   "metadata": {},
   "source": []
  },
  {
   "cell_type": "code",
   "execution_count": null,
   "id": "cdbd1e4d-53fd-401f-8853-2ed67c723f7b",
   "metadata": {},
   "outputs": [],
   "source": []
  },
  {
   "cell_type": "code",
   "execution_count": null,
   "id": "c65a31eb-0083-430a-9fa3-284a0a9d6a06",
   "metadata": {},
   "outputs": [],
   "source": []
  }
 ],
 "metadata": {
  "kernelspec": {
   "display_name": "Python 3 (ipykernel)",
   "language": "python",
   "name": "python3"
  },
  "language_info": {
   "codemirror_mode": {
    "name": "ipython",
    "version": 3
   },
   "file_extension": ".py",
   "mimetype": "text/x-python",
   "name": "python",
   "nbconvert_exporter": "python",
   "pygments_lexer": "ipython3",
   "version": "3.10.8"
  }
 },
 "nbformat": 4,
 "nbformat_minor": 5
}
