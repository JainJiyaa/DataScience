{
 "cells": [
  {
   "cell_type": "markdown",
   "id": "c76eb76b-5733-4d02-8563-11fa47f646ab",
   "metadata": {},
   "source": [
    "Q1. Load the \"titanic\" dataset using the load_dataset function of seaborn. Use Plotly express to plot a\n",
    "scatter plot for age and fare columns in the titanic dataset.\n",
    "\n",
    "import seaborn as sns\n",
    "import plotly.express as px\n",
    "\n",
    "# Load the Titanic dataset\n",
    "titanic = sns.load_dataset('titanic')\n",
    "\n",
    "# Create a scatter plot using Plotly Express\n",
    "fig = px.scatter(titanic, x='age', y='fare', title='Scatter Plot of Age vs Fare')\n",
    "\n",
    "# Show the plot\n",
    "fig.show()"
   ]
  },
  {
   "cell_type": "markdown",
   "id": "7dea80a5-69d4-4b72-8b14-e6070cc185b8",
   "metadata": {},
   "source": [
    "Q2. Using the tips dataset in the Plotly library, plot a box plot using Plotly express.\n",
    "\n",
    "import plotly.express as px\n",
    "\n",
    "# Load the tips dataset\n",
    "df = px.data.tips()\n",
    "\n",
    "# Create a box plot\n",
    "fig = px.box(df, x='day', y='total_bill', title='Box Plot of Total Bill by Day')\n",
    "\n",
    "# Show the plot\n",
    "fig.show()"
   ]
  },
  {
   "cell_type": "markdown",
   "id": "a0b1e26f-e228-400c-ad29-aaf78b4eec02",
   "metadata": {},
   "source": [
    "Q3. Using the tips dataset in the Plotly library, Plot a histogram for x= \"sex\" and y=\"total_bill\" column in\n",
    "the tips dataset. Also, use the \"smoker\" column with the pattern_shape parameter and the \"day\"\n",
    "column with the color parameter.\n",
    "\n",
    "import plotly.express as px\n",
    "\n",
    "# Load the tips dataset\n",
    "df = px.data.tips()\n",
    "\n",
    "# Create a histogram\n",
    "fig = px.histogram(df, x='sex', y='total_bill', pattern_shape='smoker', color='day', \n",
    "                   title='Histogram of Total Bill by Sex, Smoker Status, and Day')\n",
    "\n",
    "# Show the plot\n",
    "fig.show()"
   ]
  },
  {
   "cell_type": "markdown",
   "id": "645db70b-bdf8-470a-8607-8307f0882fe7",
   "metadata": {},
   "source": [
    "Q4. Using the iris dataset in the Plotly library, Plot a scatter matrix plot, using the \"species\" column for\n",
    "the color parameter.\n",
    "Note: Use \"sepal_length\", \"sepal_width\", \"petal_length\", \"petal_width\" columns only with the\n",
    "dimensions parameter."
   ]
  },
  {
   "cell_type": "markdown",
   "id": "566ad169-4861-4aa2-badc-aa46a90c8ced",
   "metadata": {},
   "source": [
    "Q5. What is Distplot? Using Plotly express, plot a distplot.\n",
    "\n",
    "A distplot is a visualization that combines a histogram and a kernel density estimate (KDE) plot to show the distribution of a dataset.\n",
    "Here's an example of how to create a distplot using Plotly Express:\n",
    "\n",
    "import plotly.express as px\n",
    "import pandas as pd\n",
    "\n",
    "# Sample data\n",
    "data = {\n",
    "    'Test Score': [85, 90, 80, 75, 85, 82, 78, 85, 90, 85]\n",
    "}\n",
    "\n",
    "df = pd.DataFrame(data)\n",
    "\n",
    "# Create a distplot\n",
    "fig = px.histogram(df, x='Test Score', marginal='violin', nbins=10, title='Distribution of Test Scores')\n",
    "\n",
    "# Show the plot\n",
    "fig.show()"
   ]
  }
 ],
 "metadata": {
  "kernelspec": {
   "display_name": "Python 3 (ipykernel)",
   "language": "python",
   "name": "python3"
  },
  "language_info": {
   "codemirror_mode": {
    "name": "ipython",
    "version": 3
   },
   "file_extension": ".py",
   "mimetype": "text/x-python",
   "name": "python",
   "nbconvert_exporter": "python",
   "pygments_lexer": "ipython3",
   "version": "3.10.8"
  }
 },
 "nbformat": 4,
 "nbformat_minor": 5
}
