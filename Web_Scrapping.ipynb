{
 "cells": [
  {
   "cell_type": "markdown",
   "id": "396989f0-cc3f-41c1-8e4e-3409df30c39a",
   "metadata": {},
   "source": [
    "What is web scrabbing? Why is it used? Give three areas where web scrabbing is used.\n",
    "\n"
   ]
  },
  {
   "cell_type": "markdown",
   "id": "4db57a38-8efa-4dd1-9d39-c33790852c72",
   "metadata": {},
   "source": [
    "Web scraping refers to the extraction of data from a website. This information is collected and then exported into a format that is more useful for the user. Be it a spreadsheet or an API.\n",
    "Some of the main use cases of web scraping include price monitoring, price intelligence, news monitoring, lead generation, and market research among many others.\n",
    "Web scraping is used in a variety of digital businesses that rely on data harvesting. Legitimate use cases include: Search engine bots crawling a site, analyzing its content and then ranking it. Price comparison sites deploying bots to auto-fetch prices and product descriptions for allied seller websites."
   ]
  },
  {
   "cell_type": "markdown",
   "id": "159620e3-2485-4cd0-947b-0c32b1157a28",
   "metadata": {},
   "source": [
    "Q2. What are the different methods used for Web Scraping?"
   ]
  },
  {
   "cell_type": "markdown",
   "id": "dcc26cf2-619d-462d-8494-de8465fbafc5",
   "metadata": {},
   "source": [
    "There are many ways to perform web scraping to get data from websites. These include using online services, special APIs, or even creating code for web scraping from scratch. Many large websites, such as Google, Twitter, Facebook, StackOverflow, etc. have APIs that allow you to access your data in a structured format."
   ]
  },
  {
   "cell_type": "markdown",
   "id": "664ae793-4cf8-4fbc-b8f7-221d8d451d09",
   "metadata": {},
   "source": [
    "Q3. What is Beautiful Soup? Why is it used?"
   ]
  },
  {
   "cell_type": "markdown",
   "id": "e7459a64-4df9-4b13-829d-fe79042ff8af",
   "metadata": {},
   "source": [
    "Beautiful Soup is a Python package for parsing HTML and XML documents. It creates a parse tree for parsed web pages based on specific criteria that can be used to extract, navigate, search, and modify data from HTML, which is mostly used for web scraping."
   ]
  },
  {
   "cell_type": "markdown",
   "id": "35e1af37-e49c-4cc3-a645-e4e7f5b148ee",
   "metadata": {},
   "source": [
    "Q4. Why is flask used in this Web Scraping project?"
   ]
  },
  {
   "cell_type": "markdown",
   "id": "23ae25fd-86cf-4223-9f5d-1ac9a1fec29f",
   "metadata": {},
   "source": [
    "Flask provides a simple and consistent interface to the incoming HTTP request data. From accessing form data, file uploads, cookies, and headers to handling JSON data, Flask's request handling capabilities make it easy to build robust and secure web applications.2"
   ]
  },
  {
   "cell_type": "markdown",
   "id": "6dce1bab-4647-42a5-a96e-cb46e5b66a60",
   "metadata": {},
   "source": [
    "Q5. Write the names of AWS services."
   ]
  }
 ],
 "metadata": {
  "kernelspec": {
   "display_name": "Python 3 (ipykernel)",
   "language": "python",
   "name": "python3"
  },
  "language_info": {
   "codemirror_mode": {
    "name": "ipython",
    "version": 3
   },
   "file_extension": ".py",
   "mimetype": "text/x-python",
   "name": "python",
   "nbconvert_exporter": "python",
   "pygments_lexer": "ipython3",
   "version": "3.10.8"
  }
 },
 "nbformat": 4,
 "nbformat_minor": 5
}
