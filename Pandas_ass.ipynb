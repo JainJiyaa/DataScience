{
 "cells": [
  {
   "cell_type": "markdown",
   "id": "4addd175-0c50-41ba-a9d5-d86188252d2e",
   "metadata": {},
   "source": [
    "Q1. List any five functions of the pandas library with execution."
   ]
  },
  {
   "cell_type": "code",
   "execution_count": 1,
   "id": "38d9626f-282b-4dee-b547-279062764fc1",
   "metadata": {},
   "outputs": [
    {
     "name": "stdout",
     "output_type": "stream",
     "text": [
      "   A   B\n",
      "0  1  10\n",
      "1  2  20\n",
      "2  3  30\n",
      "3  4  40\n",
      "4  5  50\n",
      "              A          B\n",
      "count  5.000000   5.000000\n",
      "mean   3.000000  30.000000\n",
      "std    1.581139  15.811388\n",
      "min    1.000000  10.000000\n",
      "25%    2.000000  20.000000\n",
      "50%    3.000000  30.000000\n",
      "75%    4.000000  40.000000\n",
      "max    5.000000  50.000000\n",
      "    B\n",
      "A    \n",
      "1  10\n",
      "2  20\n",
      "3  30\n",
      "4  40\n",
      "5  50\n",
      "       A      B\n",
      "0  False  False\n",
      "1  False  False\n",
      "2  False  False\n",
      "3  False  False\n",
      "4  False  False\n",
      "   A\n",
      "0  1\n",
      "1  2\n",
      "2  3\n",
      "3  4\n",
      "4  5\n"
     ]
    }
   ],
   "source": [
    "#head()\n",
    "import pandas as pd\n",
    "df = pd.DataFrame({'A': [1, 2, 3, 4, 5], 'B': [10, 20, 30, 40, 50]})\n",
    "print(df.head())\n",
    "\n",
    "#describe()\n",
    "print(df.describe())\n",
    "\n",
    "#groupby()\n",
    "grouped = df.groupby('A').sum()\n",
    "print(grouped)\n",
    "\n",
    "#isnull()\n",
    "print(df.isnull())\n",
    "\n",
    "#drop()\n",
    "df_dropped = df.drop('B', axis=1)\n",
    "print(df_dropped)"
   ]
  },
  {
   "cell_type": "markdown",
   "id": "9d592efb-5006-45de-b6bf-738d4f852b9d",
   "metadata": {},
   "source": [
    "Q2. Given a Pandas DataFrame df with columns 'A', 'B', and 'C', write a Python function to re-index the\n",
    "DataFrame with a new index that starts from 1 and increments by 2 for each row."
   ]
  },
  {
   "cell_type": "code",
   "execution_count": 2,
   "id": "c4d125b1-ecfc-4fc9-9100-54cc5d0b4206",
   "metadata": {},
   "outputs": [
    {
     "name": "stdout",
     "output_type": "stream",
     "text": [
      "Original DataFrame:\n",
      "    A   B   C\n",
      "0  10  40  70\n",
      "1  20  50  80\n",
      "2  30  60  90\n",
      "\n",
      "Re-indexed DataFrame:\n",
      "    A   B   C\n",
      "1  10  40  70\n",
      "3  20  50  80\n",
      "5  30  60  90\n"
     ]
    }
   ],
   "source": [
    "import pandas as pd\n",
    "\n",
    "def reindex_dataframe(df):\n",
    "    new_index = range(1, 2*len(df)+1, 2)\n",
    "    df.index = new_index\n",
    "    return df\n",
    "\n",
    "# Example usage:\n",
    "data = {'A': [10, 20, 30], 'B': [40, 50, 60], 'C': [70, 80, 90]}\n",
    "df = pd.DataFrame(data)\n",
    "print(\"Original DataFrame:\")\n",
    "print(df)\n",
    "\n",
    "df_reindexed = reindex_dataframe(df)\n",
    "print(\"\\nRe-indexed DataFrame:\")\n",
    "print(df_reindexed)"
   ]
  },
  {
   "cell_type": "markdown",
   "id": "12267dd1-902d-44fa-89bd-ab2a2dbabf88",
   "metadata": {},
   "source": [
    "Q3. You have a Pandas DataFrame df with a column named 'Values'. Write a Python function that\n",
    "iterates over the DataFrame and calculates the sum of the first three values in the 'Values' column. The\n",
    "function should print the sum to the console."
   ]
  },
  {
   "cell_type": "code",
   "execution_count": 3,
   "id": "55513dd3-fb8e-4bab-9251-6ea4a87c68d7",
   "metadata": {},
   "outputs": [
    {
     "name": "stdout",
     "output_type": "stream",
     "text": [
      "Sum of the first three values: 60\n"
     ]
    }
   ],
   "source": [
    "import pandas as pd\n",
    "\n",
    "def sum_first_three_values(df):\n",
    "    # Calculate the sum of the first three values in the 'Values' column\n",
    "    total_sum = df['Values'].head(3).sum()\n",
    "    # Print the sum\n",
    "    print(\"Sum of the first three values:\", total_sum)\n",
    "\n",
    "# Example usage:\n",
    "data = {'Values': [10, 20, 30, 40, 50]}\n",
    "df = pd.DataFrame(data)\n",
    "sum_first_three_values(df)"
   ]
  },
  {
   "cell_type": "markdown",
   "id": "cd48fc26-3e34-4808-97b9-bffdf9b53d71",
   "metadata": {},
   "source": [
    "Q4. Given a Pandas DataFrame df with a column 'Text', write a Python function to create a new column\n",
    "'Word_Count' that contains the number of words in each row of the 'Text' column. in short"
   ]
  },
  {
   "cell_type": "code",
   "execution_count": null,
   "id": "d0e2bc84-985a-48b4-9e77-6e1fee3493eb",
   "metadata": {},
   "outputs": [],
   "source": [
    "import pandas as pd\n",
    "\n",
    "def add_word_count_column(df):\n",
    "    # Create the 'Word_Count' column by counting the number of words in each row of the 'Text' column\n",
    "    df['Word_Count'] = df['Text'].apply(lambda x: len(str(x).split()))\n",
    "    return df\n",
    "\n",
    "# Example usage:\n",
    "data = {'Text': ['Hello world', 'Pandas is great', 'This is an example']}\n",
    "df = pd.DataFrame(data)\n",
    "print(\"Original DataFrame:\")\n",
    "print(df)\n",
    "\n",
    "df_with_word_count = add_word_count_column(df)\n",
    "print(\"\\nDataFrame with Word_Count column:\")\n",
    "print(df_with_word_count)"
   ]
  },
  {
   "cell_type": "markdown",
   "id": "24637b61-2044-436e-8da0-09435b427b0d",
   "metadata": {},
   "source": [
    "Q5. How are DataFrame.size() and DataFrame.shape() different?\n",
    "\n",
    "DataFrame.size:\n",
    "\n",
    "Description: Returns the total number of elements in the DataFrame.\n",
    "Usage: df.size\n",
    "Example: If a DataFrame has 3 rows and 4 columns, df.size will be 12 (3 rows * 4 columns).\n",
    "DataFrame.shape:\n",
    "\n",
    "Description: Returns a tuple representing the dimensionality of the DataFrame.\n",
    "Usage: df.shape\n",
    "Example: If a DataFrame has 3 rows and 4 columns, df.shape will be (3, 4)."
   ]
  },
  {
   "cell_type": "markdown",
   "id": "89c0a648-585b-4686-96df-ffe843e21d76",
   "metadata": {},
   "source": [
    "Q6. Which function of pandas do we use to read an excel file?"
   ]
  },
  {
   "cell_type": "markdown",
   "id": "6e7eaf6f-ae2a-49a7-aa2e-256e6934eb9a",
   "metadata": {},
   "source": [
    "To read an Excel file in pandas, you use the read_excel() function.\n",
    "Usage:\n",
    "import pandas as pd\n",
    "df = pd.read_excel('file_path.xlsx')\n",
    "This function reads the content of an Excel file into a Pandas DataFrame."
   ]
  },
  {
   "cell_type": "markdown",
   "id": "5b3f3002-f2eb-49c5-a10c-5df1dc1d25f8",
   "metadata": {},
   "source": [
    "Q7. You have a Pandas DataFrame df that contains a column named 'Email' that contains email\n",
    "addresses in the format 'username@domain.com'. Write a Python function that creates a new column\n",
    "'Username' in df that contains only the username part of each email address."
   ]
  },
  {
   "cell_type": "code",
   "execution_count": 5,
   "id": "ba661067-1e31-4fc2-97b4-36e32cd0bab1",
   "metadata": {},
   "outputs": [
    {
     "name": "stdout",
     "output_type": "stream",
     "text": [
      "Original DataFrame:\n",
      "               Email\n",
      "0  alice@example.com\n",
      "1       bob@test.org\n",
      "2   carol@domain.net\n",
      "\n",
      "DataFrame with Username column:\n",
      "               Email Username\n",
      "0  alice@example.com    alice\n",
      "1       bob@test.org      bob\n",
      "2   carol@domain.net    carol\n"
     ]
    }
   ],
   "source": [
    "import pandas as pd\n",
    "\n",
    "def add_username_column(df):\n",
    "    # Create the 'Username' column by extracting the username part of each email address\n",
    "    df['Username'] = df['Email'].apply(lambda x: x.split('@')[0])\n",
    "    return df\n",
    "\n",
    "# Example usage:\n",
    "data = {'Email': ['alice@example.com', 'bob@test.org', 'carol@domain.net']}\n",
    "df = pd.DataFrame(data)\n",
    "print(\"Original DataFrame:\")\n",
    "print(df)\n",
    "\n",
    "df_with_username = add_username_column(df)\n",
    "print(\"\\nDataFrame with Username column:\")\n",
    "print(df_with_username)"
   ]
  },
  {
   "cell_type": "markdown",
   "id": "0697cbde-ac44-4840-bf8f-e4f51216a1a2",
   "metadata": {},
   "source": [
    "Q8. You have a Pandas DataFrame df with columns 'A', 'B', and 'C'. Write a Python function that selects\n",
    "all rows where the value in column 'A' is greater than 5 and the value in column 'B' is less than 10. The\n",
    "function should return a new DataFrame that contains only the selected rows.\n",
    "For example, if df contains the following values:\n",
    "A B C\n",
    "0 3 5 1\n",
    "1 8 2 7\n",
    "2 6 9 4\n",
    "3 2 3 5\n",
    "4 9 1 2\n",
    "Your function should select the following rows: A B C\n",
    "1 8 2 7\n",
    "4 9 1 2\n",
    "The function should return a new DataFrame that contains only the selected rows."
   ]
  },
  {
   "cell_type": "markdown",
   "id": "4624fcda-a257-49e2-82fc-693475876e92",
   "metadata": {},
   "source": [
    "import pandas as pd\n",
    "\n",
    "def select_rows(df):\n",
    "    # Select rows where column 'A' > 5 and column 'B' < 10\n",
    "    selected_rows = df[(df['A'] > 5) && (df['B'] < 10)]\n",
    "    return selected_rows\n",
    "\n",
    "# Example usage:\n",
    "data = {'A': [3, 8, 6, 2, 9], 'B': [5, 2, 9, 3, 1], 'C': [1, 7, 4, 5, 2]}\n",
    "df = pd.DataFrame(data)\n",
    "print(\"Original DataFrame:\")\n",
    "print(df)\n",
    "\n",
    "selected_df = select_rows(df)\n",
    "print(\"\\nSelected DataFrame:\")\n",
    "print(selected_df)"
   ]
  },
  {
   "cell_type": "markdown",
   "id": "d0417b59-abbc-421f-a9f3-6dc46c794023",
   "metadata": {},
   "source": [
    "Q9. Given a Pandas DataFrame df with a column 'Values', write a Python function to calculate the mean,\n",
    "median, and standard deviation of the values in the 'Values' column."
   ]
  },
  {
   "cell_type": "code",
   "execution_count": 7,
   "id": "c57234bf-b49a-4463-92ca-32f3d144d81f",
   "metadata": {},
   "outputs": [],
   "source": [
    "import pandas as pd\n",
    "\n",
    "def calculate_stats(df):\n",
    "    stats = {\n",
    "        'mean': df['Values'].mean(),\n",
    "        'median': df['Values'].median(),\n",
    "        'std_dev': df['Values'].std()\n",
    "    }\n",
    "    return stats"
   ]
  },
  {
   "cell_type": "markdown",
   "id": "d51dc89a-2f80-449c-a0be-acf3d3b85543",
   "metadata": {},
   "source": [
    "Q10. Given a Pandas DataFrame df with a column 'Sales' and a column 'Date', write a Python function to\n",
    "create a new column 'MovingAverage' that contains the moving average of the sales for the past 7 days\n",
    "for each row in the DataFrame. The moving average should be calculated using a window of size 7 and\n",
    "should include the current day."
   ]
  },
  {
   "cell_type": "code",
   "execution_count": 8,
   "id": "96c1c299-9fbf-4697-9a13-154337899415",
   "metadata": {},
   "outputs": [],
   "source": [
    "import pandas as pd\n",
    "\n",
    "def calculate_moving_average(df):\n",
    "    df['MovingAverage'] = df['Sales'].rolling(window=7, min_periods=1).mean()\n",
    "    return df\n",
    "\n",
    "# Example usage:\n",
    "# Assuming df is your Pandas DataFrame\n",
    "# df = calculate_moving_average(df)\n",
    "# print(df)"
   ]
  },
  {
   "cell_type": "markdown",
   "id": "fe1d0084-df85-4416-8c8f-7bc8c790c492",
   "metadata": {},
   "source": [
    "Q11. You have a Pandas DataFrame df with a column 'Date'. Write a Python function that creates a new\n",
    "column 'Weekday' in the DataFrame. The 'Weekday' column should contain the weekday name (e.g.\n",
    "Monday, Tuesday) corresponding to each date in the 'Date' column.\n",
    "For example, if df contains the following values:\n",
    "Date\n",
    "0 2023-01-01\n",
    "1 2023-01-02\n",
    "2 2023-01-03\n",
    "3 2023-01-04\n",
    "4 2023-01-05\n",
    "Your function should create the following DataFrame:\n",
    "Date Weekday\n",
    "0 2023-01-01 Sunday\n",
    "1 2023-01-02 Monday\n",
    "2 2023-01-03 Tuesday\n",
    "3 2023-01-04 Wednesday\n",
    "4 2023-01-05 Thursday\n",
    "The function should return the modified DataFrame."
   ]
  },
  {
   "cell_type": "code",
   "execution_count": 9,
   "id": "ec35cd3b-828b-49db-a1c1-99325783f3ce",
   "metadata": {},
   "outputs": [],
   "source": [
    "import pandas as pd\n",
    "\n",
    "def add_weekday_column(df):\n",
    "    df['Weekday'] = df['Date'].dt.strftime('%A')\n",
    "    return df\n",
    "\n",
    "# Example usage:\n",
    "# Assuming df is your Pandas DataFrame with a 'Date' column\n",
    "# df = add_weekday_column(df)\n",
    "# print(df)"
   ]
  },
  {
   "cell_type": "markdown",
   "id": "b934945e-d868-4b8c-82df-6eeae478be0e",
   "metadata": {},
   "source": [
    "Q12. Given a Pandas DataFrame df with a column 'Date' that contains timestamps, write a Python\n",
    "function to select all rows where the date is between '2023-01-01' and '2023-01-31'."
   ]
  },
  {
   "cell_type": "code",
   "execution_count": 10,
   "id": "3df1a137-e898-4a32-881d-accc5881f681",
   "metadata": {},
   "outputs": [],
   "source": [
    "import pandas as pd\n",
    "\n",
    "def select_rows_between_dates(df):\n",
    "    start_date = '2023-01-01'\n",
    "    end_date = '2023-01-31'\n",
    "    mask = (df['Date'] >= start_date) & (df['Date'] <= end_date)\n",
    "    selected_rows = df[mask]\n",
    "    return selected_rows\n",
    "\n",
    "# Example usage:\n",
    "# Assuming df is your Pandas DataFrame with a 'Date' column\n",
    "# selected_df = select_rows_between_dates(df)\n",
    "# print(selected_df)"
   ]
  },
  {
   "cell_type": "markdown",
   "id": "d39fe6d5-3b37-4e48-937d-9cb604d18b5d",
   "metadata": {},
   "source": [
    "Q13. To use the basic functions of pandas, what is the first and foremost necessary library that needs to\n",
    "be imported?"
   ]
  },
  {
   "cell_type": "code",
   "execution_count": null,
   "id": "a39015eb-8e7c-42a6-b16d-d163014a8333",
   "metadata": {},
   "outputs": [],
   "source": []
  }
 ],
 "metadata": {
  "kernelspec": {
   "display_name": "Python 3 (ipykernel)",
   "language": "python",
   "name": "python3"
  },
  "language_info": {
   "codemirror_mode": {
    "name": "ipython",
    "version": 3
   },
   "file_extension": ".py",
   "mimetype": "text/x-python",
   "name": "python",
   "nbconvert_exporter": "python",
   "pygments_lexer": "ipython3",
   "version": "3.10.8"
  }
 },
 "nbformat": 4,
 "nbformat_minor": 5
}
