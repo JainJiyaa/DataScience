{
 "cells": [
  {
   "cell_type": "markdown",
   "id": "8bbbc38b-88c2-4a25-9de3-d0bb99ca7f16",
   "metadata": {},
   "source": [
    "Q1. What is Ridge Regression, and how does it differ from ordinary least squares regression?\n",
    "\n",
    "Ridge regression also known as L2 regularization.It is used for reducing overfitting. It says dont keep error 0 keep some error.\n",
    "It is an algorithm that works better as compared to other algorithms.\n",
    "The main difference between the two lies in the way they handle the bias-variance trade-off."
   ]
  },
  {
   "cell_type": "markdown",
   "id": "73e5abf3-ccf9-4ecd-b97b-743cf8dde2b4",
   "metadata": {},
   "source": [
    "Q2. What are the assumptions of Ridge Regression?\n",
    "\n",
    "The assumptions are the same as those used in linear regression:\n",
    "1.Linearity\n",
    "2.Constant variance (no outliers)\n",
    "3.Independence."
   ]
  },
  {
   "cell_type": "markdown",
   "id": "bd56431e-d409-4676-94f3-d6b2902a8be9",
   "metadata": {},
   "source": [
    "Q3. How do you select the value of the tuning parameter (lambda) in Ridge Regression?\n",
    "\n",
    "Steps to select the lambda-\n",
    "1.Cross validation\n",
    "2.Test different values.\n",
    "3.Evaluate the performance.\n",
    "4.Choose the best lambda.\n",
    "5.And lastly, train the ridge regression model with all your data using lambda."
   ]
  },
  {
   "cell_type": "markdown",
   "id": "1103491b-e0d3-4a26-b304-73f078bc9e3d",
   "metadata": {},
   "source": [
    "Q4. Can Ridge Regression be used for feature selection? If yes, how?\n",
    "\n",
    "Yes, Ridge Regression can indirectly perform feature selection by shrinking the coefficients of less important features towards zero.\n",
    "While it doesn't inherently eliminate features like some other methods such as Lasso Regression, it effectively reduces the impact of less relevant features on the model's predictions.So, while Ridge Regression doesn't explicitly select features, it can still aid in feature selection by reducing the influence of less relevant predictors."
   ]
  },
  {
   "cell_type": "markdown",
   "id": "51fc3973-79e5-4642-981e-73a496b990f9",
   "metadata": {},
   "source": [
    "Q5. How does the Ridge Regression model perform in the presence of multicollinearity?\n",
    "\n",
    "Multicollinearity happens when predictor exhibit a correlation among themselves. Ridge regression aims at reducing the standard error by adding some bias in the estimates of the regression. The reduction of error in regression estimates significantly, increases the reliability of the estimates.\n",
    "Although multicollinearity does not affect the regression estimates, it makes them vague, imprecise, and unreliable."
   ]
  },
  {
   "cell_type": "markdown",
   "id": "4c1058b4-c25e-49d1-a9ea-8eb7f8318aae",
   "metadata": {},
   "source": [
    "Q6. Can Ridge Regression handle both categorical and continuous independent variables?\n",
    "\n",
    "YES, Ridge regression handles both categorical and continuous independent variables."
   ]
  },
  {
   "cell_type": "markdown",
   "id": "890a4a7e-3edc-4498-9d39-68ce7bb87a2d",
   "metadata": {},
   "source": [
    "Q7. How do you interpret the coefficients of Ridge Regression?\n",
    "\n",
    "Some of the interpretation explained here:\n",
    "The ridge coefficients are a reduced factor of the simple linear regression coefficients and thus never attain zero values but very small values. \n",
    "The ridge regression will penalize your coefficients, such that those that are the least effective in your estimation will \"shrink\" the fastest."
   ]
  },
  {
   "cell_type": "markdown",
   "id": "8e40d072-25b7-4d58-a009-6aeead16b88a",
   "metadata": {},
   "source": [
    "Q8. Can Ridge Regression be used for time-series data analysis? If yes, how?\n",
    "\n",
    "Yes, Ridge Regression can indeed be used for time-series data analysis, particularly when there's a need to model the relationship between predictors and a time-dependent target variable.\n",
    "Ridge Regression provides a useful tool for analyzing time-series data by effectively modeling relationships, handling multicollinearity, and reducing overfitting."
   ]
  }
 ],
 "metadata": {
  "kernelspec": {
   "display_name": "Python 3 (ipykernel)",
   "language": "python",
   "name": "python3"
  },
  "language_info": {
   "codemirror_mode": {
    "name": "ipython",
    "version": 3
   },
   "file_extension": ".py",
   "mimetype": "text/x-python",
   "name": "python",
   "nbconvert_exporter": "python",
   "pygments_lexer": "ipython3",
   "version": "3.10.8"
  }
 },
 "nbformat": 4,
 "nbformat_minor": 5
}
