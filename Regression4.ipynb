{
 "cells": [
  {
   "cell_type": "markdown",
   "id": "1eb13ea5-9e7e-423d-b563-0ed0ea1af9d3",
   "metadata": {},
   "source": [
    "Q1. What is Lasso Regression, and how does it differ from other regression techniques?\n",
    "\n",
    "Lasso regression is also known as l1 regularization.It is used for feature selection using shrinkage method also known as penalized regression model.\n",
    "Lasso is short for Least Absolute Shrinkage and Selection Operator, which is used both for regularization and model selection.\n",
    "This is the how it differs from other regularization technique. "
   ]
  },
  {
   "cell_type": "markdown",
   "id": "05ce5efe-aeff-4e22-9e10-b68f1cadc1ba",
   "metadata": {},
   "source": [
    "Q2. What is the main advantage of using Lasso Regression in feature selection?\n",
    "\n",
    "Lasso is the valuable technique for feature selection and regularization.\n",
    "It involves a penalty factor that determines how many features are retained; using cross-validation and it effectively shrinks less important features to zero, improving model interpretability and reducing overfitting."
   ]
  },
  {
   "cell_type": "markdown",
   "id": "1429517c-ce7e-4105-8727-9e3367a4ca5b",
   "metadata": {},
   "source": [
    "Q3. How do you interpret the coefficients of a Lasso Regression model?\n",
    "\n",
    "In Lasso Regression, the coefficients represent the weights assigned to each feature in the model. The interpretation of these coefficients depends on the specific context of your dataset and the features we have included.\n",
    "Magnitude.\n",
    "Sign.\n",
    "Normalization."
   ]
  },
  {
   "cell_type": "markdown",
   "id": "377d16a1-e5e4-4eea-9fde-fd7899ce2a37",
   "metadata": {},
   "source": [
    "Q4. What are the tuning parameters that can be adjusted in Lasso Regression, and how do they affect the\n",
    "model's performance?\n",
    "\n",
    "In Lasso Regression, the main tuning parameter is the regularization parameter,often denoted as 𝛼.\n",
    "High:\n",
    "When α is high, Lasso Regression penalizes the magnitude of the coefficients more severely, leading to more coefficients being shrunk towards zero.\n",
    "Low:\n",
    "Conversely, when 𝛼 is low, Lasso Regression imposes less penalty on the coefficients, allowing them to take larger values."
   ]
  },
  {
   "cell_type": "markdown",
   "id": "bb8eddcc-c18d-440a-892b-584dc64180b3",
   "metadata": {},
   "source": [
    "Q5. Can Lasso Regression be used for non-linear regression problems? If yes, how?\n",
    "\n",
    "Yes, Lasso Regression, like other linear regression techniques, can be extended to handle non-linear regression problems through feature engineering and basis function expansion and regularization."
   ]
  },
  {
   "cell_type": "markdown",
   "id": "d5adfe5e-0044-4490-8591-3d0108112fa1",
   "metadata": {},
   "source": [
    "Q6. What is the difference between Ridge Regression and Lasso Regression?\n",
    "\n",
    "Ridge Regression is often preferred when you have many features with small to medium effects, whereas Lasso Regression is useful when you suspect that only a subset of the features are truly important, or when you want a more interpretable model with feature selection capabilities.\n",
    "Ridge Regression tends to shrink the coefficients towards zero, but it rarely sets them exactly to zero whereas, Lasso Regression can shrink coefficients towards zero as well, but it has the added property of performing automatic feature selection by setting some coefficients exactly to zero."
   ]
  },
  {
   "cell_type": "markdown",
   "id": "c1abf0ca-520d-4d92-a70a-03147614766d",
   "metadata": {},
   "source": [
    "Q7. Can Lasso Regression handle multicollinearity in the input features? If yes, how?\n",
    "\n",
    "Yes, Lasso Regression can help mitigate multicollinearity in input features to some extend. Here is how it handles the multicollinearity:\n",
    "1.Feature Selection.\n",
    "2.Regularization."
   ]
  },
  {
   "cell_type": "markdown",
   "id": "055aeeb2-f480-433f-9bbe-9dcc911f66b0",
   "metadata": {},
   "source": [
    "Q8. How do you choose the optimal value of the regularization parameter (lambda) in Lasso Regression?\n",
    "\n",
    "Choosing the optimal value of the regularization parameter, often denoted as 𝜆 or 𝛼\n",
    "In Lasso Regression typically involves techniques such as cross-validation or regularization path.The optimal choice of \n",
    "λ depends on the specific dataset and the trade-off between model complexity and performance."
   ]
  }
 ],
 "metadata": {
  "kernelspec": {
   "display_name": "Python 3 (ipykernel)",
   "language": "python",
   "name": "python3"
  },
  "language_info": {
   "codemirror_mode": {
    "name": "ipython",
    "version": 3
   },
   "file_extension": ".py",
   "mimetype": "text/x-python",
   "name": "python",
   "nbconvert_exporter": "python",
   "pygments_lexer": "ipython3",
   "version": "3.10.8"
  }
 },
 "nbformat": 4,
 "nbformat_minor": 5
}
