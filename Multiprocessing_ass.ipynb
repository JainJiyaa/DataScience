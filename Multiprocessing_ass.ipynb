{
 "cells": [
  {
   "cell_type": "markdown",
   "id": "66f4f700-dcd0-4980-964f-7bda7312e5a6",
   "metadata": {},
   "source": [
    "Q1. What is multiprocessing in python? Why is it useful?\n",
    "\n",
    "Multiprocessing is a technique that involves running multiple processes simultaneously, each with its own memory space. It allows a program \n",
    "to run tasks in parallel by leveraging multiple CPU cores.\n",
    "USES:\n",
    "Enhances performance and efficiency for CPU-intensive tasks by distributing the workload across multiple processors.\n",
    "Each process has its own memory space, reducing the risk of data corruption and race conditions seen in multithreading."
   ]
  },
  {
   "cell_type": "markdown",
   "id": "1bc3eea1-8045-4302-9759-0391904a5e32",
   "metadata": {},
   "source": [
    "Q2. What are the differences between multiprocessing and multithreading?\n",
    "1.Concurrency vs. Parallelism:\n",
    "Multithreading: Achieves concurrency; multiple threads run within the same process, sharing the same memory space.\n",
    "Multiprocessing: Achieves parallelism; multiple processes run independently, each with its own memory space.\n",
    "\n",
    "2.Memory Sharing:\n",
    "Multithreading: Threads share the same memory and resources, which can lead to race conditions and requires careful synchronization.\n",
    "Multiprocessing: Processes do not share memory, reducing the risk of data corruption and making synchronization easier.\n",
    "\n",
    "3.Overhead:\n",
    "Multithreading: Lower overhead due to shared memory, but requires complex synchronization.\n",
    "Multiprocessing: Higher overhead due to separate memory spaces and inter-process communication, but easier to manage independently running tasks."
   ]
  },
  {
   "cell_type": "code",
   "execution_count": 1,
   "id": "d46ba723-8f83-4d23-88f5-40b54c1f7b51",
   "metadata": {},
   "outputs": [
    {
     "name": "stdout",
     "output_type": "stream",
     "text": [
      "Square of 5 is 25\n"
     ]
    }
   ],
   "source": [
    "#Q3. Write a python code to create a process using the multiprocessing module.\n",
    "\n",
    "import multiprocessing\n",
    "\n",
    "def worker(num):\n",
    "    \"\"\"Function to print square of a number.\"\"\"\n",
    "    result = num * num\n",
    "    print(f\"Square of {num} is {result}\")\n",
    "\n",
    "if __name__ == \"__main__\":\n",
    "    # Create a multiprocessing process\n",
    "    process = multiprocessing.Process(target=worker, args=(5,))\n",
    "    \n",
    "    # Start the process\n",
    "    process.start()\n",
    "    \n",
    "    # Wait for the process to finish\n",
    "    process.join()\n"
   ]
  },
  {
   "cell_type": "markdown",
   "id": "d4739a39-f32b-4b8f-9152-41131aa52c18",
   "metadata": {},
   "source": [
    "Q4. What is a multiprocessing pool in python? Why is it used?\n",
    "\n",
    "A multiprocessing pool is a container of worker processes used to distribute tasks across multiple CPU cores.\n",
    "1.It allows concurrent execution of tasks by utilizing multiple CPU cores efficiently.\n",
    "2.Distributes tasks among worker processes, reducing overhead and improving performance."
   ]
  },
  {
   "cell_type": "code",
   "execution_count": 2,
   "id": "81666f73-e590-48ee-a8de-5de134e7a07b",
   "metadata": {},
   "outputs": [
    {
     "name": "stdout",
     "output_type": "stream",
     "text": [
      "[0, 1, 4, 9, 16, 25, 36, 49, 64, 81]\n"
     ]
    }
   ],
   "source": [
    "#Q5. How can we create a pool of worker processes in python using the multiprocessing module?\n",
    "\n",
    "import multiprocessing\n",
    "\n",
    "def worker_function(x):\n",
    "    \"\"\"Example worker function.\"\"\"\n",
    "    return x * x\n",
    "\n",
    "if __name__ == \"__main__\":\n",
    "    # Create a multiprocessing pool with 4 worker processes\n",
    "    with multiprocessing.Pool(processes=4) as pool:\n",
    "        # Distribute tasks to the pool of worker processes\n",
    "        results = pool.map(worker_function, range(10))\n",
    "        print(results)"
   ]
  },
  {
   "cell_type": "code",
   "execution_count": null,
   "id": "2257c011-3843-490b-99b0-ede4b70726a3",
   "metadata": {},
   "outputs": [],
   "source": []
  }
 ],
 "metadata": {
  "kernelspec": {
   "display_name": "Python 3 (ipykernel)",
   "language": "python",
   "name": "python3"
  },
  "language_info": {
   "codemirror_mode": {
    "name": "ipython",
    "version": 3
   },
   "file_extension": ".py",
   "mimetype": "text/x-python",
   "name": "python",
   "nbconvert_exporter": "python",
   "pygments_lexer": "ipython3",
   "version": "3.10.8"
  }
 },
 "nbformat": 4,
 "nbformat_minor": 5
}
